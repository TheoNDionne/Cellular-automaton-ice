{
 "cells": [
  {
   "cell_type": "code",
   "execution_count": null,
   "metadata": {},
   "outputs": [],
   "source": [
    "import numpy as np\n",
    "import ice_funcs as icef\n",
    "import snowflake_plot as snp\n",
    "\n",
    "import matplotlib.pyplot as plt"
   ]
  },
  {
   "cell_type": "code",
   "execution_count": null,
   "metadata": {},
   "outputs": [],
   "source": [
    "SnowflakeSim = icef.SnowflakeSimulation(1001, 200)\n",
    "SnowflakeSim.PhysicsU.X_0 = 1\n",
    "SnowflakeSim.PhysicsU.v_kin = 1\n",
    "SnowflakeSim.PhysicsU.max_alpha = 1\n",
    "SnowflakeSim.PhysicsU.D_x = 1\n",
    "SnowflakeSim.PhysicsU.G = 1.5\n",
    "SnowflakeSim.PhysicsU.H = 1\n",
    "\n",
    "\n",
    "print(\"Strating simulation\")\n",
    "\n",
    "final_ice_map = SnowflakeSim.run_simulation(800, 0.001)"
   ]
  },
  {
   "cell_type": "code",
   "execution_count": null,
   "metadata": {},
   "outputs": [],
   "source": [
    "L = 1001\n",
    "demi_largeur = 50\n",
    "\n",
    "params = {\"figure.dpi\":250}\n",
    "plt.rcParams.update(params)\n",
    "\n",
    "converter = snp.CoordsFromIceMap(L)\n",
    "R = converter.convert_ice_map_to_all_coords(final_ice_map)\n",
    "\n",
    "\n",
    "\n",
    "plt.figure()\n",
    "\n",
    "plt.plot(R[:,0], R[:,1], marker=\"H\", linewidth=0, markersize=124/demi_largeur)\n",
    "\n",
    "plt.xlim(-demi_largeur,demi_largeur)\n",
    "plt.ylim(-demi_largeur,demi_largeur)\n",
    "plt.gca().set_aspect(1)\n",
    "\n",
    "plt.show()"
   ]
  },
  {
   "cell_type": "code",
   "execution_count": null,
   "metadata": {},
   "outputs": [],
   "source": []
  }
 ],
 "metadata": {
  "kernelspec": {
   "display_name": "base",
   "language": "python",
   "name": "python3"
  },
  "language_info": {
   "codemirror_mode": {
    "name": "ipython",
    "version": 3
   },
   "file_extension": ".py",
   "mimetype": "text/x-python",
   "name": "python",
   "nbconvert_exporter": "python",
   "pygments_lexer": "ipython3",
   "version": "3.9.13"
  },
  "orig_nbformat": 4
 },
 "nbformat": 4,
 "nbformat_minor": 2
}
