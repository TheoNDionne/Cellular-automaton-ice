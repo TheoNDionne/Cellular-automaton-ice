{
 "cells": [
  {
   "cell_type": "code",
   "execution_count": 34,
   "metadata": {},
   "outputs": [],
   "source": [
    "import numba as nb\n",
    "import numpy as np\n",
    "#WTF"
   ]
  },
  {
   "attachments": {},
   "cell_type": "markdown",
   "metadata": {},
   "source": [
    "# TODO\n",
    "\n",
    "--> FILL OUT\n",
    "--> Compile classes with jitclass when I can"
   ]
  },
  {
   "cell_type": "code",
   "execution_count": 60,
   "metadata": {},
   "outputs": [],
   "source": [
    "# spec = {}\n",
    "# spec[\"loc\"] = nb.types.UniTuple(nb.types.int32, 2)\n",
    "# spec[\"sat\"] = nb.types.float64\n",
    "# spec[\"old_sat\"] = nb.types.float64\n",
    "# spec[\"ice_status\"] = nb.types.boolean\n",
    "# spec[\"boundary_status\"] = nb.types.boolean\n",
    "\n",
    "# @nb.experimental.jitclass(spec)\n",
    "class Cell:\n",
    "    \"\"\"THINGFADLFKASD:KFA:SLDKF:ALSDKF:ALS\"\"\"\n",
    "\n",
    "    def __init__(\n",
    "        self, \n",
    "        loc:tuple, \n",
    "        sat:float,\n",
    "        ice_status:bool = False, \n",
    "        boundary_status:bool = False\n",
    "    ):\n",
    "\n",
    "        self.loc = loc\n",
    "        self.sat = sat\n",
    "        self.old_sat = sat\n",
    "        self.ice_status = ice_status\n",
    "        self.boundary_status = boundary_status\n",
    "\n",
    "    "
   ]
  },
  {
   "cell_type": "code",
   "execution_count": 66,
   "metadata": {},
   "outputs": [
    {
     "data": {
      "text/plain": [
       "array([[<__main__.Cell object at 0x7f3e30029ee0>,\n",
       "        <__main__.Cell object at 0x7f3e1e740550>,\n",
       "        <__main__.Cell object at 0x7f3e1e740400>, ...,\n",
       "        <__main__.Cell object at 0x7f3e1e6db220>,\n",
       "        <__main__.Cell object at 0x7f3e1e6db280>,\n",
       "        <__main__.Cell object at 0x7f3e1e6db2e0>],\n",
       "       [<__main__.Cell object at 0x7f3e1e740520>,\n",
       "        <__main__.Cell object at 0x7f3e1e6db3a0>,\n",
       "        <__main__.Cell object at 0x7f3e1e6db400>, ...,\n",
       "        <__main__.Cell object at 0x7f3e1e6f9100>,\n",
       "        <__main__.Cell object at 0x7f3e1e6f9160>, None],\n",
       "       [<__main__.Cell object at 0x7f3e1e6db340>,\n",
       "        <__main__.Cell object at 0x7f3e1e6f9220>,\n",
       "        <__main__.Cell object at 0x7f3e1e6f9280>, ...,\n",
       "        <__main__.Cell object at 0x7f3e1e714f40>,\n",
       "        <__main__.Cell object at 0x7f3e1e714fa0>, None],\n",
       "       ...,\n",
       "       [<__main__.Cell object at 0x7f3e1af10fa0>,\n",
       "        <__main__.Cell object at 0x7f3e1af12100>, None, ..., None, None,\n",
       "        None],\n",
       "       [<__main__.Cell object at 0x7f3e1af120a0>, None, None, ..., None,\n",
       "        None, None],\n",
       "       [<__main__.Cell object at 0x7f3e1af12160>, None, None, ..., None,\n",
       "        None, None]], dtype=object)"
      ]
     },
     "execution_count": 66,
     "metadata": {},
     "output_type": "execute_result"
    }
   ],
   "source": [
    "L = 1001\n",
    "W = (L+1)//2\n",
    "\n",
    "cell_array = np.empty((L,W), dtype=np.object_)\n",
    "\n",
    "def generate_cells(Cell_obj):\n",
    "    for i in range(L):\n",
    "        for j in range((L-i+1)//2):\n",
    "            cell_array[i,j] = Cell_obj((i,j), 0)\n",
    "    return cell_array\n",
    "\n",
    "generate_cells(Cell)"
   ]
  },
  {
   "cell_type": "code",
   "execution_count": 39,
   "metadata": {},
   "outputs": [],
   "source": [
    "spec = [(\"n\", nb.types.float32)]\n",
    "\n",
    "@nb.experimental.jitclass(spec)\n",
    "class adder:\n",
    "    def __init__(self, n):\n",
    "        self.n = n\n",
    "\n",
    "    def add_up_to(self):\n",
    "        \n",
    "        sum = 0\n",
    "\n",
    "        for i in range(self.n):\n",
    "            sum += i\n",
    "\n",
    "        return sum\n",
    "\n",
    "\n",
    "class adder_python:\n",
    "    def __init__(self, n):\n",
    "        self.n = n\n",
    "\n",
    "    def add_up_to(self):\n",
    "        \n",
    "        sum = 0\n",
    "\n",
    "        for i in range(self.n):\n",
    "            sum += i\n",
    "\n",
    "        return sum"
   ]
  },
  {
   "cell_type": "code",
   "execution_count": 40,
   "metadata": {},
   "outputs": [
    {
     "name": "stdout",
     "output_type": "stream",
     "text": [
      "0.0074294090270996095\n",
      "0.3484816551208496\n",
      "46.905703246344814\n"
     ]
    }
   ],
   "source": [
    "import time\n",
    "\n",
    "test_numba = adder(10000000)\n",
    "test_python = adder_python(10000000)\n",
    "\n",
    "N_iter = 10\n",
    "\n",
    "start = time.time()\n",
    "\n",
    "for i in range(N_iter):\n",
    "    test_numba.add_up_to()\n",
    "\n",
    "end = time.time()\n",
    "\n",
    "r1 = (end - start)/N_iter\n",
    "print(r1)\n",
    "\n",
    "start = time.time()\n",
    "\n",
    "for i in range(N_iter):\n",
    "    test_python.add_up_to()\n",
    "\n",
    "end = time.time()\n",
    "r2 = (end - start)/N_iter\n",
    "print(r2)\n",
    "\n",
    "print(r2/r1)"
   ]
  },
  {
   "cell_type": "code",
   "execution_count": 108,
   "metadata": {},
   "outputs": [
    {
     "ename": "ValueError",
     "evalue": "\u001b[1mCannot determine Numba type of <class '__main__.Cell'>\u001b[0m",
     "output_type": "error",
     "traceback": [
      "\u001b[0;31m---------------------------------------------------------------------------\u001b[0m",
      "\u001b[0;31mValueError\u001b[0m                                Traceback (most recent call last)",
      "\u001b[0;32m/tmp/ipykernel_5138/4093323055.py\u001b[0m in \u001b[0;36m<module>\u001b[0;34m\u001b[0m\n\u001b[0;32m----> 1\u001b[0;31m \u001b[0mnb\u001b[0m\u001b[0;34m.\u001b[0m\u001b[0mtypeof\u001b[0m\u001b[0;34m(\u001b[0m\u001b[0mCell\u001b[0m\u001b[0;34m(\u001b[0m\u001b[0;34m(\u001b[0m\u001b[0;36m0\u001b[0m\u001b[0;34m,\u001b[0m\u001b[0;36m0\u001b[0m\u001b[0;34m)\u001b[0m\u001b[0;34m,\u001b[0m\u001b[0;36m0\u001b[0m\u001b[0;34m)\u001b[0m\u001b[0;34m)\u001b[0m\u001b[0;34m\u001b[0m\u001b[0;34m\u001b[0m\u001b[0m\n\u001b[0m",
      "\u001b[0;32m~/miniconda3/lib/python3.9/site-packages/numba/core/typing/typeof.py\u001b[0m in \u001b[0;36mtypeof\u001b[0;34m(val, purpose)\u001b[0m\n\u001b[1;32m     33\u001b[0m         msg = _termcolor.errmsg(\n\u001b[1;32m     34\u001b[0m             f\"Cannot determine Numba type of {type(val)}\")\n\u001b[0;32m---> 35\u001b[0;31m         \u001b[0;32mraise\u001b[0m \u001b[0mValueError\u001b[0m\u001b[0;34m(\u001b[0m\u001b[0mmsg\u001b[0m\u001b[0;34m)\u001b[0m\u001b[0;34m\u001b[0m\u001b[0;34m\u001b[0m\u001b[0m\n\u001b[0m\u001b[1;32m     36\u001b[0m     \u001b[0;32mreturn\u001b[0m \u001b[0mty\u001b[0m\u001b[0;34m\u001b[0m\u001b[0;34m\u001b[0m\u001b[0m\n\u001b[1;32m     37\u001b[0m \u001b[0;34m\u001b[0m\u001b[0m\n",
      "\u001b[0;31mValueError\u001b[0m: \u001b[1mCannot determine Numba type of <class '__main__.Cell'>\u001b[0m"
     ]
    }
   ],
   "source": [
    "nb.typeof(Cell((0,0),0))"
   ]
  },
  {
   "cell_type": "code",
   "execution_count": 98,
   "metadata": {},
   "outputs": [],
   "source": [
    "@nb.jit\n",
    "def gaming(Obj):\n",
    "    return Obj((9,9), 0)"
   ]
  },
  {
   "cell_type": "code",
   "execution_count": 99,
   "metadata": {},
   "outputs": [
    {
     "name": "stderr",
     "output_type": "stream",
     "text": [
      "/tmp/ipykernel_5138/1109893485.py:1: NumbaWarning: \u001b[1m\n",
      "Compilation is falling back to object mode WITH looplifting enabled because Function \"gaming\" failed type inference due to: \u001b[1m\u001b[1mnon-precise type pyobject\u001b[0m\n",
      "\u001b[0m\u001b[1mDuring: typing of argument at /tmp/ipykernel_5138/1109893485.py (3)\u001b[0m\n",
      "\u001b[1m\n",
      "File \"../../../../tmp/ipykernel_5138/1109893485.py\", line 3:\u001b[0m\n",
      "\u001b[1m<source missing, REPL/exec in use?>\u001b[0m\n",
      "\u001b[0m\n",
      "  @nb.jit\n",
      "/home/t-o/miniconda3/lib/python3.9/site-packages/numba/core/object_mode_passes.py:151: NumbaWarning: \u001b[1mFunction \"gaming\" was compiled in object mode without forceobj=True.\n",
      "\u001b[1m\n",
      "File \"../../../../tmp/ipykernel_5138/1109893485.py\", line 1:\u001b[0m\n",
      "\u001b[1m<source missing, REPL/exec in use?>\u001b[0m\n",
      "\u001b[0m\n",
      "  warnings.warn(errors.NumbaWarning(warn_msg,\n",
      "/home/t-o/miniconda3/lib/python3.9/site-packages/numba/core/object_mode_passes.py:161: NumbaDeprecationWarning: \u001b[1m\n",
      "Fall-back from the nopython compilation path to the object mode compilation path has been detected, this is deprecated behaviour.\n",
      "\n",
      "For more information visit https://numba.readthedocs.io/en/stable/reference/deprecation.html#deprecation-of-object-mode-fall-back-behaviour-when-using-jit\n",
      "\u001b[1m\n",
      "File \"../../../../tmp/ipykernel_5138/1109893485.py\", line 1:\u001b[0m\n",
      "\u001b[1m<source missing, REPL/exec in use?>\u001b[0m\n",
      "\u001b[0m\n",
      "  warnings.warn(errors.NumbaDeprecationWarning(msg,\n"
     ]
    },
    {
     "data": {
      "text/plain": [
       "<__main__.Cell at 0x7efee6011190>"
      ]
     },
     "execution_count": 99,
     "metadata": {},
     "output_type": "execute_result"
    }
   ],
   "source": [
    "gaming(Cell)"
   ]
  },
  {
   "cell_type": "code",
   "execution_count": 27,
   "metadata": {},
   "outputs": [
    {
     "ename": "ValueError",
     "evalue": "\u001b[1mCannot determine Numba type of <class 'dict'>\u001b[0m",
     "output_type": "error",
     "traceback": [
      "\u001b[0;31m---------------------------------------------------------------------------\u001b[0m",
      "\u001b[0;31mValueError\u001b[0m                                Traceback (most recent call last)",
      "\u001b[0;32m/tmp/ipykernel_5165/2848670445.py\u001b[0m in \u001b[0;36m<module>\u001b[0;34m\u001b[0m\n\u001b[0;32m----> 1\u001b[0;31m \u001b[0mnb\u001b[0m\u001b[0;34m.\u001b[0m\u001b[0mtypeof\u001b[0m\u001b[0;34m(\u001b[0m\u001b[0;34m{\u001b[0m\u001b[0;36m1\u001b[0m\u001b[0;34m:\u001b[0m\u001b[0;36m2\u001b[0m\u001b[0;34m}\u001b[0m\u001b[0;34m)\u001b[0m\u001b[0;34m\u001b[0m\u001b[0;34m\u001b[0m\u001b[0m\n\u001b[0m",
      "\u001b[0;32m~/miniconda3/lib/python3.9/site-packages/numba/core/typing/typeof.py\u001b[0m in \u001b[0;36mtypeof\u001b[0;34m(val, purpose)\u001b[0m\n\u001b[1;32m     33\u001b[0m         msg = _termcolor.errmsg(\n\u001b[1;32m     34\u001b[0m             f\"Cannot determine Numba type of {type(val)}\")\n\u001b[0;32m---> 35\u001b[0;31m         \u001b[0;32mraise\u001b[0m \u001b[0mValueError\u001b[0m\u001b[0;34m(\u001b[0m\u001b[0mmsg\u001b[0m\u001b[0;34m)\u001b[0m\u001b[0;34m\u001b[0m\u001b[0;34m\u001b[0m\u001b[0m\n\u001b[0m\u001b[1;32m     36\u001b[0m     \u001b[0;32mreturn\u001b[0m \u001b[0mty\u001b[0m\u001b[0;34m\u001b[0m\u001b[0;34m\u001b[0m\u001b[0m\n\u001b[1;32m     37\u001b[0m \u001b[0;34m\u001b[0m\u001b[0m\n",
      "\u001b[0;31mValueError\u001b[0m: \u001b[1mCannot determine Numba type of <class 'dict'>\u001b[0m"
     ]
    }
   ],
   "source": [
    "nb.typeof({1:2})"
   ]
  },
  {
   "cell_type": "code",
   "execution_count": 33,
   "metadata": {},
   "outputs": [
    {
     "data": {
      "text/plain": [
       "array(pyobject, 2d, C)"
      ]
     },
     "execution_count": 33,
     "metadata": {},
     "output_type": "execute_result"
    }
   ],
   "source": [
    "nb.typeof(np.empty((4,2), dtype=\"object\"))"
   ]
  },
  {
   "cell_type": "code",
   "execution_count": null,
   "metadata": {},
   "outputs": [],
   "source": []
  }
 ],
 "metadata": {
  "kernelspec": {
   "display_name": "base",
   "language": "python",
   "name": "python3"
  },
  "language_info": {
   "codemirror_mode": {
    "name": "ipython",
    "version": 3
   },
   "file_extension": ".py",
   "mimetype": "text/x-python",
   "name": "python",
   "nbconvert_exporter": "python",
   "pygments_lexer": "ipython3",
   "version": "3.9.13"
  },
  "orig_nbformat": 4,
  "vscode": {
   "interpreter": {
    "hash": "d83c2c4acc6798d77f2d508a6925927a980aed8f1b879892c5701a8ab2ff850e"
   }
  }
 },
 "nbformat": 4,
 "nbformat_minor": 2
}
