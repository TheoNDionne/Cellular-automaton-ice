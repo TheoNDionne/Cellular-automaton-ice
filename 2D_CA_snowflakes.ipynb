{
 "cells": [
  {
   "cell_type": "code",
   "execution_count": 1,
   "metadata": {},
   "outputs": [],
   "source": [
    "import numpy as np\n",
    "import numba as nb\n",
    "\n",
    "import ice_funcs as icef"
   ]
  },
  {
   "attachments": {},
   "cell_type": "markdown",
   "metadata": {},
   "source": [
    "## Todo:\n",
    "- ***Make sure that diffusion works!!***\n",
    "- ***Figure out if I actually need to hold on to timings... and if yes... how ?***\n",
    "    - Is the timing array even needed &&&**[do not delete, just comment out]**&&&\n",
    "- Make relaxSaturationUtilities fully OOP\n",
    "\n",
    "\n",
    "## Backburner-type-beat:\n",
    "- make sure everything is numbafied\n",
    "- Continue commenting in `ice_funcs.py`\n",
    "\n",
    "## Improvements\n",
    "- Monopole matching\n",
    "- correct geometry factors $G_b$ and $H_b$\n",
    "- Causal timings?"
   ]
  },
  {
   "cell_type": "code",
   "execution_count": 2,
   "metadata": {},
   "outputs": [],
   "source": [
    "# CONSTANTS\n",
    "\n",
    "L = 101\n",
    "W = (L+1)//2\n",
    "INITIAL_SAT = 1"
   ]
  },
  {
   "cell_type": "code",
   "execution_count": 3,
   "metadata": {},
   "outputs": [],
   "source": [
    "gu = icef.GeneralUtilities(101) # general utilities\n",
    "pu = icef.PhysicsUtilities(0.01, 10, X_0=1) # physics utilities\n",
    "sru = icef.SaturationRelaxationUtilities(101, 200)"
   ]
  },
  {
   "cell_type": "code",
   "execution_count": 4,
   "metadata": {},
   "outputs": [],
   "source": [
    "gru = icef.GrowthUtilities(101)"
   ]
  },
  {
   "cell_type": "code",
   "execution_count": 5,
   "metadata": {},
   "outputs": [
    {
     "name": "stdout",
     "output_type": "stream",
     "text": [
      "[[[-2.6711958e+07 -2.6711958e+07 -2.6711958e+07 -2.6711958e+07\n",
      "   -2.6711958e+07 -2.6711958e+07]\n",
      "  [-2.6711958e+07 -2.6711958e+07 -2.6711958e+07 -2.6711958e+07\n",
      "   -2.6711958e+07 -2.6711958e+07]\n",
      "  [-2.6711958e+07 -2.6711958e+07 -2.6711958e+07 -2.6711958e+07\n",
      "   -2.6711958e+07 -2.6711958e+07]\n",
      "  ...\n",
      "  [-1.7995002e+25  3.0647799e-41 -1.7967590e+25  3.0647799e-41\n",
      "   -1.5743927e+25  3.0647799e-41]\n",
      "  [ 0.0000000e+00  0.0000000e+00  0.0000000e+00  0.0000000e+00\n",
      "    0.0000000e+00  0.0000000e+00]\n",
      "  [-2.2701035e-43  9.8122028e-04  1.9744295e-42  0.0000000e+00\n",
      "   -1.7669122e+25  3.0647799e-41]]\n",
      "\n",
      " [[ 1.6666667e-01  3.3333334e-01  3.3333334e-01  1.6666667e-01\n",
      "    0.0000000e+00  0.0000000e+00]\n",
      "  [ 1.6666667e-01  1.6666667e-01  1.6666667e-01  1.6666667e-01\n",
      "    1.6666667e-01  1.6666667e-01]\n",
      "  [ 1.6666667e-01  1.6666667e-01  1.6666667e-01  1.6666667e-01\n",
      "    1.6666667e-01  1.6666667e-01]\n",
      "  ...\n",
      "  [ 1.6666667e-01  1.6666667e-01  1.6666667e-01  1.6666667e-01\n",
      "    1.6666667e-01  1.6666667e-01]\n",
      "  [ 1.6666667e-01  1.6666667e-01  0.0000000e+00  1.6666667e-01\n",
      "    1.6666667e-01  3.3333334e-01]\n",
      "  [ 0.0000000e+00  0.0000000e+00 -1.7670524e+25  3.0647799e-41\n",
      "    1.4012985e-45  2.8025969e-45]]\n",
      "\n",
      " [[ 1.6666667e-01  3.3333334e-01  3.3333334e-01  1.6666667e-01\n",
      "    0.0000000e+00  0.0000000e+00]\n",
      "  [ 1.6666667e-01  1.6666667e-01  1.6666667e-01  1.6666667e-01\n",
      "    1.6666667e-01  1.6666667e-01]\n",
      "  [ 1.6666667e-01  1.6666667e-01  1.6666667e-01  1.6666667e-01\n",
      "    1.6666667e-01  1.6666667e-01]\n",
      "  ...\n",
      "  [ 1.6666667e-01  1.6666667e-01  1.6666667e-01  1.6666667e-01\n",
      "    1.6666667e-01  1.6666667e-01]\n",
      "  [ 3.3333334e-01  0.0000000e+00  0.0000000e+00  0.0000000e+00\n",
      "    3.3333334e-01  3.3333334e-01]\n",
      "  [ 0.0000000e+00  0.0000000e+00 -1.7671935e+25  3.0647799e-41\n",
      "    0.0000000e+00  5.6051939e-45]]\n",
      "\n",
      " ...\n",
      "\n",
      " [[           nan            nan -1.7725107e+25  3.0647799e-41\n",
      "              nan            nan]\n",
      "  [-1.7731582e+25  3.0647799e-41            nan            nan\n",
      "   -1.5734427e+25  3.0647799e-41]\n",
      "  [           nan            nan  0.0000000e+00  0.0000000e+00\n",
      "              nan            nan]\n",
      "  ...\n",
      "  [           nan            nan -1.5734648e+25  3.0647799e-41\n",
      "              nan            nan]\n",
      "  [-1.5734907e+25  3.0647799e-41            nan            nan\n",
      "   -1.7723300e+25  3.0647799e-41]\n",
      "  [           nan            nan -1.7716806e+25  3.0647799e-41\n",
      "              nan            nan]]\n",
      "\n",
      " [[ 0.0000000e+00  0.0000000e+00            nan            nan\n",
      "    0.0000000e+00  0.0000000e+00]\n",
      "  [           nan            nan -1.7731508e+25  3.0647799e-41\n",
      "              nan            nan]\n",
      "  [ 0.0000000e+00  0.0000000e+00            nan            nan\n",
      "   -1.7916160e+25  3.0647799e-41]\n",
      "  ...\n",
      "  [-1.7719334e+25  3.0647799e-41            nan            nan\n",
      "    0.0000000e+00  0.0000000e+00]\n",
      "  [           nan            nan -1.7714371e+25  3.0647799e-41\n",
      "              nan            nan]\n",
      "  [-1.5734353e+25  3.0647799e-41            nan            nan\n",
      "   -1.7916603e+25  3.0647799e-41]]\n",
      "\n",
      " [[           nan            nan -1.7723890e+25  3.0647799e-41\n",
      "              nan            nan]\n",
      "  [-1.5735128e+25  3.0647799e-41            nan            nan\n",
      "   -1.7714630e+25  3.0647799e-41]\n",
      "  [           nan            nan -1.7731103e+25  3.0647799e-41\n",
      "              nan            nan]\n",
      "  ...\n",
      "  [           nan            nan -1.5736678e+25  3.0647799e-41\n",
      "              nan            nan]\n",
      "  [-1.7718706e+25  3.0647799e-41            nan            nan\n",
      "   -1.7719186e+25  3.0647799e-41]\n",
      "  [           nan            nan -1.7724222e+25  3.0647799e-41\n",
      "              nan            nan]]]\n"
     ]
    }
   ],
   "source": [
    "neighbor_array_test = gu.neighbor_array\n",
    "diffusion_rules_test = sru.diffusion_rules\n",
    "\n",
    "print(diffusion_rules_test)"
   ]
  },
  {
   "cell_type": "code",
   "execution_count": 6,
   "metadata": {},
   "outputs": [
    {
     "name": "stdout",
     "output_type": "stream",
     "text": [
      "[[0 0 0 0 0]\n",
      " [1 2 0 0 0]\n",
      " [0 0 0 0 0]\n",
      " [0 0 0 0 0]\n",
      " [0 0 0 0 0]]\n"
     ]
    }
   ],
   "source": [
    "default_ice_map = np.full((101, 101), False)\n",
    "default_ice_map[-1,0] = True\n",
    "default_ice_map[-2,0] = True\n",
    "default_ice_map[-3,0] = True\n",
    "default_ice_map[-3,1] = True\n",
    "\n",
    "# %timeit test_boundary_map\n",
    "boundary_map_test = gu.construct_boundary_map(default_ice_map)\n",
    "print(boundary_map_test[-5:,:5])\n",
    "\n",
    "sat_map_test = np.full((101,101), 1, dtype=np.float32)\n",
    "\n",
    "normal_cells_test, boundary_cells_test = gu._distinguish_cells(default_ice_map, boundary_map_test)\n",
    "\n",
    "opp_array_test = sru._construct_opp_array(boundary_cells_test, default_ice_map, neighbor_array_test)"
   ]
  },
  {
   "cell_type": "code",
   "execution_count": 7,
   "metadata": {},
   "outputs": [
    {
     "name": "stdout",
     "output_type": "stream",
     "text": [
      "True\n",
      "50\n",
      "[[0.99865556 0.99835116 0.99807584 0.99787086 0.99777734]\n",
      " [0.99790716 0.99746865 0.99709535 0.9968527  0.99677205]\n",
      " [0.9968196  0.99620247 0.9957176  0.995485   1.        ]\n",
      " [0.9952684  0.9944138  0.99380445 0.99358547 1.        ]\n",
      " [0.9930891  0.991905   0.9912093  1.         1.        ]\n",
      " [0.99010193 0.98826534 0.98723716 1.         1.        ]\n",
      " [0.98661655 0.9819473  1.         1.         1.        ]\n",
      " [1.         1.         1.         1.         1.        ]\n",
      " [1.         1.         1.         1.         1.        ]\n",
      " [1.         1.         1.         1.         1.        ]]\n",
      "279 µs ± 7 µs per loop (mean ± std. dev. of 7 runs, 1000 loops each)\n"
     ]
    }
   ],
   "source": [
    "# pu.apply_boundary_condition(2, 2, sat_map_test, 0.5, boundary_map_test)\n",
    "\n",
    "sat_map_test = np.full((101,101), 1, dtype=np.float32)\n",
    "\n",
    "# for i in range(50):\n",
    "#     sru._execute_relaxation_step(sat_map_test, normal_cells_test, boundary_cells_test, opp_array_test, neighbor_array_test, boundary_map_test)\n",
    "\n",
    "new_thang = sru.diffuse_to_convergence(sat_map_test, 200, 0.0001, normal_cells_test, boundary_cells_test, default_ice_map, boundary_map_test, neighbor_array_test, pu)\n",
    "print(new_thang[1])\n",
    "print(new_thang[2])\n",
    "print(new_thang[0][-10:,:5])\n",
    "\n",
    "\n",
    "%timeit sru.diffuse_to_convergence(sat_map_test, 200, 0.001, normal_cells_test, boundary_cells_test, default_ice_map, boundary_map_test, neighbor_array_test, pu)"
   ]
  },
  {
   "cell_type": "code",
   "execution_count": null,
   "metadata": {},
   "outputs": [],
   "source": []
  }
 ],
 "metadata": {
  "kernelspec": {
   "display_name": "base",
   "language": "python",
   "name": "python3"
  },
  "language_info": {
   "codemirror_mode": {
    "name": "ipython",
    "version": 3
   },
   "file_extension": ".py",
   "mimetype": "text/x-python",
   "name": "python",
   "nbconvert_exporter": "python",
   "pygments_lexer": "ipython3",
   "version": "3.9.13"
  },
  "orig_nbformat": 4,
  "vscode": {
   "interpreter": {
    "hash": "d83c2c4acc6798d77f2d508a6925927a980aed8f1b879892c5701a8ab2ff850e"
   }
  }
 },
 "nbformat": 4,
 "nbformat_minor": 2
}
