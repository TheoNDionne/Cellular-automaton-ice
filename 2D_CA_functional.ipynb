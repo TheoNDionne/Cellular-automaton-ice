{
 "cells": [
  {
   "cell_type": "code",
   "execution_count": null,
   "metadata": {},
   "outputs": [],
   "source": [
    "import numpy as np\n",
    "import numba as nb\n",
    "\n",
    "import ice_funcs as icef"
   ]
  },
  {
   "attachments": {},
   "cell_type": "markdown",
   "metadata": {},
   "source": [
    "## Todo:\n",
    "\n",
    "- **FIGURE OUT PROPER SYNTAX FOR DIFFUSION RULES (width and length restricted)**\n",
    "- Appliquer la diffusion\n",
    "- Gérer les conditions de diffusion\n",
    "- Workout comment intégrer le filling field 'f'\n",
    "- Continue commenting in `ice_funcs.py`"
   ]
  },
  {
   "cell_type": "code",
   "execution_count": null,
   "metadata": {},
   "outputs": [],
   "source": [
    "# CONSTANTS\n",
    "\n",
    "L = 1001\n",
    "W = (L+1)//2\n",
    "INITIAL_SAT = 1"
   ]
  },
  {
   "cell_type": "code",
   "execution_count": null,
   "metadata": {},
   "outputs": [],
   "source": [
    "test_neighbor_array = icef.construct_neighbor_array(L, W)\n",
    "test_ice_map = icef.construct_minimal_ice_map(L, W)\n",
    "test_boundary_map = icef.construct_boundary_map(test_ice_map, test_neighbor_array)\n",
    "test_diffusion_rules = icef.construct_default_diffusion_rules(L,W)\n",
    "test_initial_sat_map = icef.initialize_sat_map(L,W)\n",
    "\n",
    "\n",
    "print(test_boundary_map[-5:,:5])\n",
    "# %timeit icef.relax_sat_map(test_initial_sat_map, test_diffusion_rules, test_ice_map, test_boundary_map, test_neighbor_array, L)\n"
   ]
  },
  {
   "cell_type": "code",
   "execution_count": null,
   "metadata": {},
   "outputs": [],
   "source": [
    "# print(test_neighbor_array)\n",
    "# print(test_ice_map)\n"
   ]
  },
  {
   "cell_type": "code",
   "execution_count": null,
   "metadata": {},
   "outputs": [],
   "source": [
    "@nb.njit\n",
    "def change_element():\n",
    "    arr = np.array([0,0])\n",
    "    arr[1] = 1\n",
    "\n",
    "@nb.njit\n",
    "def append_element():\n",
    "    arr = np.array([0], dtype=np.int8)\n",
    "    arr = np.append(arr, 1)"
   ]
  },
  {
   "cell_type": "code",
   "execution_count": null,
   "metadata": {},
   "outputs": [],
   "source": [
    "import matplotlib.pyplot as plt\n",
    "import matplotlib as mpl\n",
    "import numpy as np\n",
    "\n",
    "mpl.rcParams[\"figure.dpi\"] = 300\n",
    "\n",
    "plt.plot([0,0,0, np.sqrt(3)/(2*20)],[0,0.05,0.1, 0.025], marker=\"H\", linewidth=0)\n",
    "\n",
    "plt.xlim(-1,1)\n",
    "plt.ylim(-1,1)\n",
    "\n",
    "plt.gca().set_aspect(1)"
   ]
  },
  {
   "cell_type": "code",
   "execution_count": null,
   "metadata": {},
   "outputs": [],
   "source": []
  }
 ],
 "metadata": {
  "kernelspec": {
   "display_name": "base",
   "language": "python",
   "name": "python3"
  },
  "language_info": {
   "codemirror_mode": {
    "name": "ipython",
    "version": 3
   },
   "file_extension": ".py",
   "mimetype": "text/x-python",
   "name": "python",
   "nbconvert_exporter": "python",
   "pygments_lexer": "ipython3",
   "version": "3.9.13"
  },
  "orig_nbformat": 4,
  "vscode": {
   "interpreter": {
    "hash": "d83c2c4acc6798d77f2d508a6925927a980aed8f1b879892c5701a8ab2ff850e"
   }
  }
 },
 "nbformat": 4,
 "nbformat_minor": 2
}
