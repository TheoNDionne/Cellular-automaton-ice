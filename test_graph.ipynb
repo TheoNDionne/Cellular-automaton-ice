{
 "cells": [
  {
   "cell_type": "code",
   "execution_count": 1,
   "metadata": {},
   "outputs": [],
   "source": [
    "import numpy as np\n",
    "import matplotlib.pyplot as plt\n",
    "\n",
    "import snowflake_plot as snp\n",
    "\n",
    "params = {\"figure.dpi\":250}\n",
    "plt.rcParams.update(params)"
   ]
  },
  {
   "cell_type": "code",
   "execution_count": 2,
   "metadata": {},
   "outputs": [
    {
     "name": "stdout",
     "output_type": "stream",
     "text": [
      "3.66 µs ± 134 ns per loop (mean ± std. dev. of 7 runs, 100000 loops each)\n"
     ]
    }
   ],
   "source": [
    "L = 10\n",
    "test_ice_map = np.full((L,(L+1)//2), False)\n",
    "\n",
    "test_ice_map[L-1,0] = True\n",
    "test_ice_map[L-2,0] = True\n",
    "test_ice_map[L-3,0] = True\n",
    "test_ice_map[L-4,0] = True\n",
    "test_ice_map[L-4,1] = True\n",
    "test_ice_map[L-5,1] = True\n",
    "test_ice_map[L-5,0] = True\n",
    "test_ice_map[L-6,0] = True\n",
    "test_ice_map[L-7,0] = True\n",
    "test_ice_map[L-8,1] = True\n",
    "test_ice_map[L-8,0] = True\n",
    "test_ice_map[L-9,0] = True\n",
    "test_ice_map[L-9,2] = True\n",
    "\n",
    "R = snp.convert_ice_map_to_all_coords(test_ice_map, L)/20\n",
    "\n",
    "%timeit snp.convert_ice_map_to_all_coords(test_ice_map, L)/20"
   ]
  },
  {
   "cell_type": "code",
   "execution_count": 3,
   "metadata": {},
   "outputs": [
    {
     "data": {
      "image/png": "[encoded data removed]",
      "text/plain": [
       "<Figure size 432x288 with 1 Axes>"
      ]
     },
     "metadata": {
      "needs_background": "light"
     },
     "output_type": "display_data"
    }
   ],
   "source": [
    "plt.figure()\n",
    "\n",
    "plt.plot(R[:,0], R[:,1], marker=\"H\", linewidth=0)\n",
    "\n",
    "plt.xlim(-1,1)\n",
    "plt.ylim(-1,1)\n",
    "plt.gca().set_aspect(1)\n",
    "\n",
    "plt.show()"
   ]
  },
  {
   "cell_type": "code",
   "execution_count": null,
   "metadata": {},
   "outputs": [],
   "source": []
  }
 ],
 "metadata": {
  "kernelspec": {
   "display_name": "base",
   "language": "python",
   "name": "python3"
  },
  "language_info": {
   "codemirror_mode": {
    "name": "ipython",
    "version": 3
   },
   "file_extension": ".py",
   "mimetype": "text/x-python",
   "name": "python",
   "nbconvert_exporter": "python",
   "pygments_lexer": "ipython3",
   "version": "3.9.13"
  },
  "orig_nbformat": 4,
  "vscode": {
   "interpreter": {
    "hash": "d83c2c4acc6798d77f2d508a6925927a980aed8f1b879892c5701a8ab2ff850e"
   }
  }
 },
 "nbformat": 4,
 "nbformat_minor": 2
}
