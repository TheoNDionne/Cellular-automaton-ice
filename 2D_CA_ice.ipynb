{
 "cells": [
  {
   "cell_type": "code",
   "execution_count": null,
   "metadata": {},
   "outputs": [],
   "source": [
    "import numpy as np\n",
    "import matplotlib.pyplot as plt\n",
    "import matplotlib as mpl\n",
    "\n",
    "mpl.rcParams[\"figure.dpi\"] = 150"
   ]
  },
  {
   "cell_type": "code",
   "execution_count": null,
   "metadata": {},
   "outputs": [],
   "source": [
    "# Initialize saturation map\n",
    "LONG_LEG_LENGTH = 7 # must be odd\n",
    "INITIAL_HOMO_SAT = 1\n",
    "\n",
    "sat_array_empty = np.zeros((LONG_LEG_LENGTH, (LONG_LEG_LENGTH+1)//2))\n"
   ]
  },
  {
   "cell_type": "code",
   "execution_count": null,
   "metadata": {},
   "outputs": [],
   "source": [
    "# Function blocks\n",
    "\n",
    "def construct_simulation_cell_mask(sat_arr):\n",
    "    \"\"\"Constructs mask of all cells that are active in the simulation\n",
    "    \"\"\"\n",
    "    simulation_cell_mask = np.copy(sat_arr)\n",
    "    \n",
    "    for i in range(0, LONG_LEG_LENGTH):\n",
    "        width = (i+2)//2\n",
    "        simulation_cell_mask[LONG_LEG_LENGTH - i-1,:width] = np.full(width, 1)\n",
    "\n",
    "    return simulation_cell_mask\n",
    "\n",
    "# def construct_diffusion_mask(sim_cell_mask)\n",
    "\n"
   ]
  },
  {
   "cell_type": "code",
   "execution_count": null,
   "metadata": {},
   "outputs": [],
   "source": [
    "# Default seed \n"
   ]
  },
  {
   "cell_type": "code",
   "execution_count": null,
   "metadata": {},
   "outputs": [],
   "source": [
    "A = np.array(\n",
    "    [\n",
    "        [\n",
    "            np.eye(2), np.eye(2)\n",
    "        ],\n",
    "        [\n",
    "            np.eye(2), np.eye(2)\n",
    "        ]\n",
    "        ]\n",
    ")"
   ]
  },
  {
   "cell_type": "code",
   "execution_count": null,
   "metadata": {},
   "outputs": [],
   "source": [
    "A[:,:,:,:]"
   ]
  },
  {
   "cell_type": "code",
   "execution_count": null,
   "metadata": {},
   "outputs": [],
   "source": [
    "A[0,0,:,:]"
   ]
  },
  {
   "cell_type": "code",
   "execution_count": null,
   "metadata": {},
   "outputs": [],
   "source": [
    "Arr = np.empty((10,10,10,10))\n",
    "\n",
    "for i in range(10):\n",
    "    for j in range(10):\n",
    "        temp_array = np.zeros((10,10))\n",
    "        temp_array[i,j] = 2\n",
    "\n",
    "        Arr[i,j,:,:] = temp_array"
   ]
  },
  {
   "cell_type": "code",
   "execution_count": null,
   "metadata": {},
   "outputs": [],
   "source": [
    "Arr[0,1,:,:]"
   ]
  },
  {
   "cell_type": "code",
   "execution_count": null,
   "metadata": {},
   "outputs": [],
   "source": [
    "diffusor_submask_inner = np.array(\n",
    "    [\n",
    "        [0, 1/6, 1/6],\n",
    "        [1/6, 0, 1/6],\n",
    "        [1/6, 1/6, 0]\n",
    "    ]\n",
    ")\n",
    "\n",
    "diffusor_submask_lower_ragged = np.array(\n",
    "    [\n",
    "        [0, 1/3],\n",
    "        [1/3, 0],\n",
    "        [1/3, 0]\n",
    "    ]\n",
    ")\n",
    "\n",
    "diffusor_submask_upper_ragged = np.array(\n",
    "    [\n",
    "        [0, 1/6, 1/6],\n",
    "        [1/3, 0, 0],\n",
    "        [1/6, 1/6, 0]\n",
    "    ]\n",
    ")\n",
    "\n",
    "diffusor_submask_flush = np.array(\n",
    "    [\n",
    "        [1/6, 1/3],\n",
    "        [0, 1/3],\n",
    "        [1/6, 0]\n",
    "    ]\n",
    ")"
   ]
  },
  {
   "cell_type": "code",
   "execution_count": null,
   "metadata": {},
   "outputs": [],
   "source": [
    "def sum_NN(a, indices):\n",
    "    \"\"\"Sums values of nearest neighbors in a hexagonal lattice\n",
    "    \n",
    "    \"\"\"\n",
    "    # if index is legit, append\n",
    "    # if index is SOMEVALUE, add to list\n",
    "    # create mask for tensor"
   ]
  },
  {
   "attachments": {},
   "cell_type": "markdown",
   "metadata": {},
   "source": [
    "### TO-DO\n",
    "\n",
    "- Make diffusor into a class\n"
   ]
  },
  {
   "cell_type": "code",
   "execution_count": null,
   "metadata": {},
   "outputs": [],
   "source": [
    "class Converter:\n",
    "    \"\"\"\n",
    "    A class that allows for conversion from cartesian coordinates\n",
    "    to index in flattened list and vice-versa for custom hexagon-based\n",
    "    simulation area.\n",
    "\n",
    "    Attributes:\n",
    "        L (int): The vertical length of simulation grid, always odd.\n",
    "\n",
    "    Methods: FIIILLLLL OUUUTTTT\n",
    "\n",
    "    \"\"\"\n",
    "    def __init__(self, L):\n",
    "        self.L = L \n",
    "        self.W = int((self.L+1)/2) # Calculates horizontal length of grid\n",
    "        self.total_indices = int(self.W*self.W) # Uses Gauss' formula to calculate total size (see doc)\n",
    "\n",
    "        ##### construct list of coords #####\n",
    "\n",
    "        cartesian_vertical_coord_list = np.ceil(2*np.sqrt(np.arange(0,self.total_indices)+1) - 1)\n",
    "        cartesian_horizontal_coord_list = np.floor((cartesian_vertical_coord_list+1)/2) - np.floor(np.square((cartesian_vertical_coord_list+1)/2))\n",
    "\n",
    "        self.coord_array = np.empty((self.total_indices, 2), dtype=int)\n",
    "\n",
    "        for i in range(self.total_indices):\n",
    "            self.coord_array[i, :] = (self.L - cartesian_vertical_coord_list[i], cartesian_horizontal_coord_list[i] + i)\n",
    "\n",
    "        ##### construct array of indices #####\n",
    "\n",
    "        self.index_array = np.full((self.L, self.W), np.nan)\n",
    "        for i in range(self.total_indices):\n",
    "            self.index_array[self.coord_array[i,0], self.coord_array[i,1]] = i\n",
    "        \n",
    "    def __repr__(self):\n",
    "        \"\"\"\n",
    "        Reserved __repr__ method.\n",
    "\n",
    "        Arguments:\n",
    "            None\n",
    "\n",
    "        Returns:\n",
    "            (str): Displays total vertical and horizontal breadth of array considered.\n",
    "        \"\"\"\n",
    "        return f\"L = {self.L}; W = {self.W}\"\n",
    "\n",
    "    def coords_to_index(self, coords):\n",
    "        \"\"\"\n",
    "        A method that converts array coordinates of a site to \n",
    "        its position in flattened array.\n",
    "\n",
    "        Arguments:\n",
    "            coords (1D array): array coordinates of a simulation site\n",
    "        \n",
    "        Returns:\n",
    "            (int) Index in the 1D flattened representation.\n",
    "        \"\"\"\n",
    "        return int(self.index_array[coords[0], coords[1]])\n",
    "\n",
    "    def index_to_coords(self, index:int):\n",
    "        \"\"\"\n",
    "        A method that converts position in flattened array to \n",
    "        its coordinates in two dimensionnal form.\n",
    "\n",
    "        Arguments:\n",
    "            index (int): index to be converted to coordinates\n",
    "        \n",
    "        Returns:\n",
    "            (int): line of the simulation site\n",
    "            (int): column of the simulation site\n",
    "        \"\"\"\n",
    "        coords = self.coord_array[index]\n",
    "        return coords[0], coords[1]\n",
    "\n",
    "    def submask_flattener(self, submask, location_coords, center_coords):\n",
    "        \"\"\"\n",
    "        FKLDJALKFJLKDASJFKLADS\n",
    "        \"\"\"\n",
    "        submask_shape = np.shape(submask)\n",
    "        flattened_array = np.zeros(self.total_indices)\n",
    "    \n",
    "        for line in range(submask_shape[0]):\n",
    "            for col in range(submask_shape[1]):\n",
    "                \n",
    "                submask_elem = submask[line, col]\n",
    "                print(submask_elem)\n",
    "                physical_line = line - center_coords[0] + location_coords[0]\n",
    "                physical_col = col - center_coords[1] + location_coords[1]\n",
    "\n",
    "                flattened_array[self.coords_to_index((physical_line, physical_col))] = submask_elem\n",
    "                print(self.coords_to_index((physical_line, physical_col)))\n",
    "\n",
    "        return flattened_array\n",
    "\n",
    "\n"
   ]
  },
  {
   "cell_type": "code",
   "execution_count": null,
   "metadata": {},
   "outputs": [],
   "source": [
    "class Diffusor:\n",
    "    \"\"\"\n",
    "    A class that manages the diffusion of the water \n",
    "    saturation field and its boundary conditions near \n",
    "    ice cells through a relaxation style method.\n",
    "\n",
    "    Attributes:\n",
    "        L (int): Vertical breadth of simulation sites\n",
    "        converter_obj (obj): Pre-initialized instance of the `Converter` class\n",
    "\n",
    "    Methods:\n",
    "        À FAIRE LOLOLOLOLOLOL\n",
    "    \"\"\"\n",
    "\n",
    "    diffusor_submask_inner = np.array(\n",
    "        [\n",
    "            [0, 1/6, 1/6],\n",
    "            [1/6, 0, 1/6],\n",
    "            [1/6, 1/6, 0]\n",
    "        ]\n",
    "    )\n",
    "\n",
    "    diffusor_submask_lower_ragged = np.array(\n",
    "        [\n",
    "            [0, 1/3],\n",
    "            [1/3, 0],\n",
    "            [1/3, 0]\n",
    "        ]\n",
    "    )\n",
    "\n",
    "    diffusor_submask_upper_ragged = np.array(\n",
    "        [\n",
    "            [0, 1/6, 1/6],\n",
    "            [1/3, 0, 0],\n",
    "            [1/6, 1/6, 0]\n",
    "        ]\n",
    "    )\n",
    "\n",
    "    diffusor_submask_flush = np.array(\n",
    "        [\n",
    "        [1/6, 1/3],\n",
    "        [0, 1/3],\n",
    "        [1/6, 0]\n",
    "        ]\n",
    "    )\n",
    "\n",
    "    def __init__(self, L, converter_obj):\n",
    "        \"\"\"\n",
    "        AFIREA DFJASDFLKADJFLAKJDAKFJADSKLFJASDKLFJAS\n",
    "        \"\"\"\n",
    "\n",
    "        self.L = L\n",
    "        self.W = (L+1)/2\n",
    "\n",
    "        print(converter_obj.index_to_coords(L))\n",
    "\n",
    "        # for line in range(self.L):\n",
    "        #     for col in range(self.W):\n",
    "        #         converter_obj.coords_to_index(1)\n",
    "                "
   ]
  },
  {
   "cell_type": "code",
   "execution_count": null,
   "metadata": {},
   "outputs": [],
   "source": [
    "gaming = Converter(1001)\n",
    "gamig = Diffusor(10, gaming)"
   ]
  },
  {
   "cell_type": "code",
   "execution_count": null,
   "metadata": {},
   "outputs": [],
   "source": [
    "diffusor_submask_inner = np.array(\n",
    "        [\n",
    "            [0, 1/6, 1/6],\n",
    "            [1/6, 0, 1/6],\n",
    "            [1/6, 1/6, 0]\n",
    "        ]\n",
    "    )\n",
    "Array = gaming.submask_flattener(diffusor_submask_inner, [1,1], [1,1])"
   ]
  },
  {
   "cell_type": "code",
   "execution_count": null,
   "metadata": {},
   "outputs": [],
   "source": []
  }
 ],
 "metadata": {
  "kernelspec": {
   "display_name": "base",
   "language": "python",
   "name": "python3"
  },
  "language_info": {
   "codemirror_mode": {
    "name": "ipython",
    "version": 3
   },
   "file_extension": ".py",
   "mimetype": "text/x-python",
   "name": "python",
   "nbconvert_exporter": "python",
   "pygments_lexer": "ipython3",
   "version": "3.9.13 | packaged by conda-forge | (main, May 27 2022, 16:56:21) \n[GCC 10.3.0]"
  },
  "orig_nbformat": 4,
  "vscode": {
   "interpreter": {
    "hash": "d83c2c4acc6798d77f2d508a6925927a980aed8f1b879892c5701a8ab2ff850e"
   }
  }
 },
 "nbformat": 4,
 "nbformat_minor": 2
}
