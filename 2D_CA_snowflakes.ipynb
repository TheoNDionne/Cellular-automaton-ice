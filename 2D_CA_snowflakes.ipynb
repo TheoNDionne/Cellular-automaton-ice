{
 "cells": [
  {
   "cell_type": "code",
   "execution_count": 1,
   "metadata": {},
   "outputs": [],
   "source": [
    "import numpy as np\n",
    "import ice_funcs as icef"
   ]
  },
  {
   "attachments": {},
   "cell_type": "markdown",
   "metadata": {},
   "source": [
    "## Todo:\n",
    "- Make Bias adjustable to avoid division by zero (calculation of alpha).\n",
    "- THERE MIGHT A PROBLEM WITH MY REFRESH... place a bomb\n",
    "- Work on output of an array of ice positions that's timesliced according to global time\n",
    "- What the fuck is wrong with sat opp?? (division by zero thing?)\n",
    "\n",
    "## Backburner-type-beat:\n",
    "- make sure everything is numbafied\n",
    "- Continue commenting in `ice_funcs.py`\n",
    "\n",
    "\n",
    "## Improvements\n",
    "- Monopole matching\n",
    "- correct geometry factors $G_b$ and $H_b$\n",
    "- Make the refreshing process more efficient\n",
    "\n"
   ]
  },
  {
   "cell_type": "code",
   "execution_count": 2,
   "metadata": {},
   "outputs": [],
   "source": [
    "# CONSTANTS\n",
    "\n",
    "L = 101\n",
    "W = (L+1)//2\n",
    "INITIAL_SAT = 1"
   ]
  },
  {
   "cell_type": "code",
   "execution_count": 3,
   "metadata": {},
   "outputs": [],
   "source": [
    "gu = icef.GeneralUtilities(101) # general utilities\n",
    "pu = icef.PhysicsUtilities(0.01, 10, X_0=1) # physics utilities\n",
    "sru = icef.SaturationRelaxationUtilities(101, 200)\n",
    "gru = icef.GrowthUtilities(101)\n"
   ]
  },
  {
   "cell_type": "code",
   "execution_count": 4,
   "metadata": {},
   "outputs": [
    {
     "name": "stdout",
     "output_type": "stream",
     "text": [
      "[[[-2.6711958e+07 -2.6711958e+07 -2.6711958e+07 -2.6711958e+07\n",
      "   -2.6711958e+07 -2.6711958e+07]\n",
      "  [-2.6711958e+07 -2.6711958e+07 -2.6711958e+07 -2.6711958e+07\n",
      "   -2.6711958e+07 -2.6711958e+07]\n",
      "  [-2.6711958e+07 -2.6711958e+07 -2.6711958e+07 -2.6711958e+07\n",
      "   -2.6711958e+07 -2.6711958e+07]\n",
      "  ...\n",
      "  [-6.4341379e+22  3.0829968e-41  2.8025969e-45  1.9057659e-43\n",
      "    0.0000000e+00  0.0000000e+00]\n",
      "  [ 1.6507296e-42  0.0000000e+00  0.0000000e+00  0.0000000e+00\n",
      "   -6.4379965e+22  3.0829968e-41]\n",
      "  [ 2.8025969e-45  1.1210388e-44  5.6051939e-45  0.0000000e+00\n",
      "   -6.5910361e+22  3.0829968e-41]]\n",
      "\n",
      " [[ 1.6666667e-01  3.3333334e-01  3.3333334e-01  1.6666667e-01\n",
      "    0.0000000e+00  0.0000000e+00]\n",
      "  [ 1.6666667e-01  1.6666667e-01  1.6666667e-01  1.6666667e-01\n",
      "    1.6666667e-01  1.6666667e-01]\n",
      "  [ 1.6666667e-01  1.6666667e-01  1.6666667e-01  1.6666667e-01\n",
      "    1.6666667e-01  1.6666667e-01]\n",
      "  ...\n",
      "  [ 1.6666667e-01  1.6666667e-01  1.6666667e-01  1.6666667e-01\n",
      "    1.6666667e-01  1.6666667e-01]\n",
      "  [ 1.6666667e-01  1.6666667e-01  0.0000000e+00  1.6666667e-01\n",
      "    1.6666667e-01  3.3333334e-01]\n",
      "  [ 2.5643762e-43  0.0000000e+00            nan            nan\n",
      "    1.4012985e-45  5.6051939e-45]]\n",
      "\n",
      " [[ 1.6666667e-01  3.3333334e-01  3.3333334e-01  1.6666667e-01\n",
      "    0.0000000e+00  0.0000000e+00]\n",
      "  [ 1.6666667e-01  1.6666667e-01  1.6666667e-01  1.6666667e-01\n",
      "    1.6666667e-01  1.6666667e-01]\n",
      "  [ 1.6666667e-01  1.6666667e-01  1.6666667e-01  1.6666667e-01\n",
      "    1.6666667e-01  1.6666667e-01]\n",
      "  ...\n",
      "  [ 1.6666667e-01  1.6666667e-01  1.6666667e-01  1.6666667e-01\n",
      "    1.6666667e-01  1.6666667e-01]\n",
      "  [ 3.3333334e-01  0.0000000e+00  0.0000000e+00  0.0000000e+00\n",
      "    3.3333334e-01  3.3333334e-01]\n",
      "  [           nan            nan  2.5643762e-43  0.0000000e+00\n",
      "              nan            nan]]\n",
      "\n",
      " ...\n",
      "\n",
      " [[ 2.2420775e-44  0.0000000e+00  0.0000000e+00  0.0000000e+00\n",
      "    0.0000000e+00  0.0000000e+00]\n",
      "  [-6.4913804e+22  3.0829968e-41 -6.4914525e+22  3.0829968e-41\n",
      "   -6.4916975e+22  3.0829968e-41]\n",
      "  [ 0.0000000e+00  0.0000000e+00  0.0000000e+00  0.0000000e+00\n",
      "    0.0000000e+00  0.0000000e+00]\n",
      "  ...\n",
      "  [-6.4917551e+22  3.0829968e-41 -6.1011273e+22  3.0829968e-41\n",
      "    8.8976747e+30  4.5746790e-41]\n",
      "  [-6.1011165e+22  3.0829968e-41 -6.4920217e+22  3.0829968e-41\n",
      "    8.4077908e-45  3.7615819e-37]\n",
      "  [-6.2992460e+22  3.0829968e-41  0.0000000e+00  0.0000000e+00\n",
      "    3.8518599e-34  7.1466222e-44]]\n",
      "\n",
      " [[-6.4919929e+22  3.0829968e-41 -6.4916398e+22  3.0829968e-41\n",
      "   -6.4688840e+22  3.0829968e-41]\n",
      "  [ 1.4012985e-45  0.0000000e+00 -6.4919929e+22  3.0829968e-41\n",
      "    1.4012985e-45  0.0000000e+00]\n",
      "  [ 0.0000000e+00  0.0000000e+00  9.8607613e-32  1.8637270e-43\n",
      "   -6.4919929e+22  3.0829968e-41]\n",
      "  ...\n",
      "  [ 0.0000000e+00  0.0000000e+00  0.0000000e+00  0.0000000e+00\n",
      "    0.0000000e+00  0.0000000e+00]\n",
      "  [ 0.0000000e+00  0.0000000e+00  0.0000000e+00  0.0000000e+00\n",
      "   -5.7947636e+22  3.0829968e-41]\n",
      "  [ 0.0000000e+00  0.0000000e+00  0.0000000e+00  0.0000000e+00\n",
      "    5.6051939e-45  0.0000000e+00]]\n",
      "\n",
      " [[ 1.8367379e-40  1.4012985e-45  0.0000000e+00  0.0000000e+00\n",
      "    0.0000000e+00  0.0000000e+00]\n",
      "  [ 0.0000000e+00  0.0000000e+00  0.0000000e+00  0.0000000e+00\n",
      "    0.0000000e+00  0.0000000e+00]\n",
      "  [-6.2539218e+22  3.0829968e-41  0.0000000e+00  0.0000000e+00\n",
      "    0.0000000e+00  0.0000000e+00]\n",
      "  ...\n",
      "  [ 9.6296497e-35  9.2485699e-44 -6.4929945e+22  3.0829968e-41\n",
      "    0.0000000e+00  0.0000000e+00]\n",
      "  [ 0.0000000e+00  0.0000000e+00  9.4039548e-38  8.1275311e-44\n",
      "   -6.4929945e+22  3.0829968e-41]\n",
      "  [ 0.0000000e+00  0.0000000e+00  0.0000000e+00  0.0000000e+00\n",
      "    9.4039548e-38  9.2485699e-44]]]\n"
     ]
    }
   ],
   "source": [
    "neighbor_array_test = gu.neighbor_array\n",
    "diffusion_rules_test = sru.diffusion_rules\n",
    "\n",
    "\n",
    "\n",
    "print(diffusion_rules_test)"
   ]
  },
  {
   "cell_type": "code",
   "execution_count": 5,
   "metadata": {},
   "outputs": [
    {
     "name": "stdout",
     "output_type": "stream",
     "text": [
      "[[0 0 0 0 0]\n",
      " [1 2 0 0 0]\n",
      " [0 0 0 0 0]\n",
      " [0 0 0 0 0]\n",
      " [0 0 0 0 0]]\n"
     ]
    }
   ],
   "source": [
    "default_ice_map = np.full((101, 101), False)\n",
    "default_ice_map[-1,0] = True\n",
    "default_ice_map[-2,0] = True\n",
    "default_ice_map[-3,0] = True\n",
    "default_ice_map[-3,1] = True\n",
    "\n",
    "# %timeit test_boundary_map\n",
    "boundary_map_test = gu.construct_boundary_map(default_ice_map)\n",
    "print(boundary_map_test[-5:,:5])\n",
    "\n",
    "sat_map_test = np.full((101,101), 1, dtype=np.float32)\n",
    "\n",
    "normal_cells_test, boundary_cells_test = gu.distinguish_cells(default_ice_map, boundary_map_test)\n",
    "\n",
    "opp_array_test = gu.construct_opp_array(boundary_cells_test, default_ice_map, neighbor_array_test)"
   ]
  },
  {
   "cell_type": "code",
   "execution_count": 6,
   "metadata": {},
   "outputs": [
    {
     "name": "stdout",
     "output_type": "stream",
     "text": [
      "True\n",
      "50\n",
      "[[0.99865556 0.99835116 0.99807584 0.99787086 0.99777734]\n",
      " [0.99790716 0.99746865 0.99709535 0.9968527  0.99677205]\n",
      " [0.9968196  0.99620247 0.9957176  0.995485   1.        ]\n",
      " [0.9952684  0.9944138  0.99380445 0.99358547 1.        ]\n",
      " [0.9930891  0.991905   0.9912093  1.         1.        ]\n",
      " [0.99010193 0.98826534 0.98723716 1.         1.        ]\n",
      " [0.98661655 0.9819473  1.         1.         1.        ]\n",
      " [1.         1.         1.         1.         1.        ]\n",
      " [1.         1.         1.         1.         1.        ]\n",
      " [1.         1.         1.         1.         1.        ]]\n"
     ]
    }
   ],
   "source": [
    "# pu.apply_boundary_condition(2, 2, sat_map_test, 0.5, boundary_map_test)\n",
    "\n",
    "sat_map_test = np.full((101,101), 1, dtype=np.float32)\n",
    "\n",
    "new_thang = sru.diffuse_to_convergence(sat_map_test, 0.0001, normal_cells_test, boundary_cells_test, boundary_map_test, neighbor_array_test, opp_array_test, pu)\n",
    "gru.update_minimum_time(boundary_cells_test, sat_map_test, boundary_map_test, pu)\n",
    "gru.update_filling_array(boundary_cells_test, sat_map_test, boundary_map_test, pu)\n",
    "\n",
    "print(new_thang[1])\n",
    "print(new_thang[2])\n",
    "print(new_thang[0][-10:,:5])\n"
   ]
  },
  {
   "cell_type": "code",
   "execution_count": 7,
   "metadata": {},
   "outputs": [
    {
     "name": "stdout",
     "output_type": "stream",
     "text": [
      "Strating simulation\n"
     ]
    }
   ],
   "source": [
    "SnowflakeSim = icef.SnowflakeSimulation(501, 200)\n",
    "\n",
    "print(\"Strating simulation\")\n",
    "\n",
    "final_ice_array = SnowflakeSim.run_simulation(10, 0.001)\n",
    "np.savetxt(\"Example_ice_map\", final_ice_array,)"
   ]
  },
  {
   "cell_type": "code",
   "execution_count": null,
   "metadata": {},
   "outputs": [],
   "source": []
  }
 ],
 "metadata": {
  "kernelspec": {
   "display_name": "base",
   "language": "python",
   "name": "python3"
  },
  "language_info": {
   "codemirror_mode": {
    "name": "ipython",
    "version": 3
   },
   "file_extension": ".py",
   "mimetype": "text/x-python",
   "name": "python",
   "nbconvert_exporter": "python",
   "pygments_lexer": "ipython3",
   "version": "3.9.13"
  },
  "orig_nbformat": 4,
  "vscode": {
   "interpreter": {
    "hash": "d83c2c4acc6798d77f2d508a6925927a980aed8f1b879892c5701a8ab2ff850e"
   }
  }
 },
 "nbformat": 4,
 "nbformat_minor": 2
}
