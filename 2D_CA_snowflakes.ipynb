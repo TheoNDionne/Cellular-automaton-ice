{
 "cells": [
  {
   "cell_type": "code",
   "execution_count": 1,
   "metadata": {},
   "outputs": [],
   "source": [
    "import numpy as np\n",
    "import numba as nb\n",
    "\n",
    "import ice_funcs as icef"
   ]
  },
  {
   "attachments": {},
   "cell_type": "markdown",
   "metadata": {},
   "source": [
    "## Todo:\n",
    "- ***Make sure that diffusion works!!***\n",
    "- ***Figure out if I actually need to hold on to timings... and if yes... how ?***\n",
    "    - Is the timing array even needed &&&**[do not delete, just comment out]**&&&\n",
    "- Make relaxSaturationUtilities fully OOP\n",
    "\n",
    "\n",
    "## Backburner-type-beat:\n",
    "- make sure everything is numbafied\n",
    "- Continue commenting in `ice_funcs.py`\n",
    "\n",
    "## Improvements\n",
    "- Monopole matching\n",
    "- correct geometry factors $G_b$ and $H_b$\n",
    "- Causal timings?"
   ]
  },
  {
   "cell_type": "code",
   "execution_count": 2,
   "metadata": {},
   "outputs": [],
   "source": [
    "# CONSTANTS\n",
    "\n",
    "L = 101\n",
    "W = (L+1)//2\n",
    "INITIAL_SAT = 1"
   ]
  },
  {
   "cell_type": "code",
   "execution_count": 3,
   "metadata": {},
   "outputs": [],
   "source": [
    "gu = icef.GeneralUtilities(101) # general utilities\n",
    "\n",
    "pu = icef.PhysicsUtilities(0.01, 10, X_0=2) # physics utilities\n",
    "\n"
   ]
  },
  {
   "cell_type": "code",
   "execution_count": 4,
   "metadata": {},
   "outputs": [],
   "source": [
    "sru = icef.SaturationRelaxationUtilities(101, 200)"
   ]
  },
  {
   "cell_type": "code",
   "execution_count": 5,
   "metadata": {},
   "outputs": [
    {
     "name": "stdout",
     "output_type": "stream",
     "text": [
      "[[[-2.6711958e+07 -2.6711958e+07 -2.6711958e+07 -2.6711958e+07\n",
      "   -2.6711958e+07 -2.6711958e+07]\n",
      "  [-2.6711958e+07 -2.6711958e+07 -2.6711958e+07 -2.6711958e+07\n",
      "   -2.6711958e+07 -2.6711958e+07]\n",
      "  [-2.6711958e+07 -2.6711958e+07 -2.6711958e+07 -2.6711958e+07\n",
      "   -2.6711958e+07 -2.6711958e+07]\n",
      "  ...\n",
      "  [ 5.6051939e-45  9.4039548e-38  0.0000000e+00  0.0000000e+00\n",
      "    0.0000000e+00  0.0000000e+00]\n",
      "  [ 1.9259299e-33  6.8663625e-44 -3.5486770e+31  3.0682831e-41\n",
      "   -3.5487389e+31  3.0682831e-41]\n",
      "  [-3.5485532e+31  3.0682831e-41  1.1093356e-31  6.8663625e-44\n",
      "   -3.5486770e+31  3.0682831e-41]]\n",
      "\n",
      " [[ 1.6666667e-01  3.3333334e-01  3.3333334e-01  1.6666667e-01\n",
      "    0.0000000e+00  0.0000000e+00]\n",
      "  [ 1.6666667e-01  1.6666667e-01  1.6666667e-01  1.6666667e-01\n",
      "    1.6666667e-01  1.6666667e-01]\n",
      "  [ 1.6666667e-01  1.6666667e-01  1.6666667e-01  1.6666667e-01\n",
      "    1.6666667e-01  1.6666667e-01]\n",
      "  ...\n",
      "  [ 1.6666667e-01  1.6666667e-01  1.6666667e-01  1.6666667e-01\n",
      "    1.6666667e-01  1.6666667e-01]\n",
      "  [ 1.6666667e-01  1.6666667e-01  0.0000000e+00  1.6666667e-01\n",
      "    1.6666667e-01  3.3333334e-01]\n",
      "  [-3.5490019e+31  3.0682831e-41  4.2038954e-45  9.4039548e-38\n",
      "    0.0000000e+00  0.0000000e+00]]\n",
      "\n",
      " [[ 1.6666667e-01  3.3333334e-01  3.3333334e-01  1.6666667e-01\n",
      "    0.0000000e+00  0.0000000e+00]\n",
      "  [ 1.6666667e-01  1.6666667e-01  1.6666667e-01  1.6666667e-01\n",
      "    1.6666667e-01  1.6666667e-01]\n",
      "  [ 1.6666667e-01  1.6666667e-01  1.6666667e-01  1.6666667e-01\n",
      "    1.6666667e-01  1.6666667e-01]\n",
      "  ...\n",
      "  [ 1.6666667e-01  1.6666667e-01  1.6666667e-01  1.6666667e-01\n",
      "    1.6666667e-01  1.6666667e-01]\n",
      "  [ 3.3333334e-01  0.0000000e+00  0.0000000e+00  0.0000000e+00\n",
      "    3.3333334e-01  3.3333334e-01]\n",
      "  [-3.0619596e+31  3.0682831e-41  0.0000000e+00  0.0000000e+00\n",
      "    0.0000000e+00  0.0000000e+00]]\n",
      "\n",
      " ...\n",
      "\n",
      " [[ 0.0000000e+00  0.0000000e+00 -3.5774165e+31  3.0682831e-41\n",
      "    1.4012985e-45  5.6051939e-45]\n",
      "  [-6.1517003e-43  0.0000000e+00  0.0000000e+00  0.0000000e+00\n",
      "    0.0000000e+00  0.0000000e+00]\n",
      "  [-3.5774262e+31  3.0682831e-41  1.4012985e-45  5.6051939e-45\n",
      "   -6.1376873e-43  0.0000000e+00]\n",
      "  ...\n",
      "  [ 0.0000000e+00  0.0000000e+00  0.0000000e+00  0.0000000e+00\n",
      "    0.0000000e+00  0.0000000e+00]\n",
      "  [ 0.0000000e+00  0.0000000e+00  0.0000000e+00  0.0000000e+00\n",
      "    0.0000000e+00  0.0000000e+00]\n",
      "  [ 0.0000000e+00  0.0000000e+00  0.0000000e+00  0.0000000e+00\n",
      "    0.0000000e+00  0.0000000e+00]]\n",
      "\n",
      " [[ 0.0000000e+00  0.0000000e+00  0.0000000e+00  0.0000000e+00\n",
      "    0.0000000e+00  0.0000000e+00]\n",
      "  [ 0.0000000e+00  0.0000000e+00  0.0000000e+00  0.0000000e+00\n",
      "    0.0000000e+00  0.0000000e+00]\n",
      "  [ 0.0000000e+00  0.0000000e+00  0.0000000e+00  0.0000000e+00\n",
      "    0.0000000e+00  0.0000000e+00]\n",
      "  ...\n",
      "  [ 0.0000000e+00  0.0000000e+00  0.0000000e+00  0.0000000e+00\n",
      "    0.0000000e+00  0.0000000e+00]\n",
      "  [ 0.0000000e+00  0.0000000e+00  0.0000000e+00  0.0000000e+00\n",
      "    0.0000000e+00  0.0000000e+00]\n",
      "  [ 0.0000000e+00  0.0000000e+00  0.0000000e+00  0.0000000e+00\n",
      "    0.0000000e+00  0.0000000e+00]]\n",
      "\n",
      " [[ 0.0000000e+00  0.0000000e+00  0.0000000e+00  0.0000000e+00\n",
      "    0.0000000e+00  0.0000000e+00]\n",
      "  [ 0.0000000e+00  0.0000000e+00  0.0000000e+00  0.0000000e+00\n",
      "    0.0000000e+00  0.0000000e+00]\n",
      "  [ 0.0000000e+00  0.0000000e+00  0.0000000e+00  0.0000000e+00\n",
      "    0.0000000e+00  0.0000000e+00]\n",
      "  ...\n",
      "  [ 0.0000000e+00  0.0000000e+00  1.4012985e-45  3.0682831e-41\n",
      "   -0.0000000e+00  3.0682831e-41]\n",
      "  [ 0.0000000e+00  0.0000000e+00  1.4012985e-45  3.0682831e-41\n",
      "    0.0000000e+00  0.0000000e+00]\n",
      "  [ 1.4012985e-45  3.0682831e-41 -0.0000000e+00  1.4012985e-45\n",
      "    0.0000000e+00  0.0000000e+00]]]\n"
     ]
    }
   ],
   "source": [
    "neighbor_array_test = gu.neighbor_array\n",
    "diffusion_rules_test = sru.diffusion_rules\n",
    "\n",
    "print(diffusion_rules_test)"
   ]
  },
  {
   "cell_type": "code",
   "execution_count": 6,
   "metadata": {},
   "outputs": [
    {
     "name": "stdout",
     "output_type": "stream",
     "text": [
      "[[0 0 0 0 0]\n",
      " [1 2 0 0 0]\n",
      " [0 0 0 0 0]\n",
      " [0 0 0 0 0]\n",
      " [0 0 0 0 0]]\n"
     ]
    }
   ],
   "source": [
    "default_ice_map = np.full((101, 101), False)\n",
    "default_ice_map[-1,0] = True\n",
    "default_ice_map[-2,0] = True\n",
    "default_ice_map[-3,0] = True\n",
    "default_ice_map[-3,1] = True\n",
    "\n",
    "# %timeit test_boundary_map\n",
    "boundary_map_test = gu.construct_boundary_map(default_ice_map)\n",
    "print(boundary_map_test[-5:,:5])\n",
    "\n",
    "sat_map_test = np.full((101,101), 1, dtype=np.float32)\n",
    "\n",
    "normal_cells_test, boundary_cells_test = gu._distinguish_cells(default_ice_map, boundary_map_test)\n",
    "\n",
    "opp_array_test = sru._construct_opp_array(boundary_cells_test, default_ice_map, neighbor_array_test)"
   ]
  },
  {
   "cell_type": "code",
   "execution_count": 10,
   "metadata": {},
   "outputs": [
    {
     "name": "stdout",
     "output_type": "stream",
     "text": [
      "False\n",
      "200\n",
      "[[0.9937453  0.9931462  0.99264514 0.9922927  0.99213755]\n",
      " [0.9923508  0.9916322  0.9910597  0.99070376 0.99058825]\n",
      " [0.9906505  0.9897847  0.9891409  0.9888431  1.        ]\n",
      " [0.9885575  0.9875037  0.98678505 0.986533   1.        ]\n",
      " [0.9859507  0.98463356 0.9838852  1.         1.        ]\n",
      " [0.9827002  0.980803   0.9797492  1.         1.        ]\n",
      " [0.97920275 0.9744718  1.         1.         1.        ]\n",
      " [1.         1.         1.         1.         1.        ]\n",
      " [1.         1.         1.         1.         1.        ]\n",
      " [1.         1.         1.         1.         1.        ]]\n"
     ]
    }
   ],
   "source": [
    "# pu.apply_boundary_condition(2, 2, sat_map_test, 0.5, boundary_map_test)\n",
    "\n",
    "sat_map_test = np.full((101,101), 1, dtype=np.float32)\n",
    "\n",
    "# for i in range(50):\n",
    "#     sru._execute_relaxation_step(sat_map_test, normal_cells_test, boundary_cells_test, opp_array_test, neighbor_array_test, boundary_map_test)\n",
    "\n",
    "new_thang = sru.diffuse_to_convergence(sat_map_test, 200, 0.00001, normal_cells_test, boundary_cells_test, default_ice_map, boundary_map_test, neighbor_array_test, pu)\n",
    "print(new_thang[1])\n",
    "print(new_thang[2])\n",
    "print(new_thang[0][-10:,:5])"
   ]
  },
  {
   "cell_type": "code",
   "execution_count": null,
   "metadata": {},
   "outputs": [],
   "source": []
  }
 ],
 "metadata": {
  "kernelspec": {
   "display_name": "base",
   "language": "python",
   "name": "python3"
  },
  "language_info": {
   "codemirror_mode": {
    "name": "ipython",
    "version": 3
   },
   "file_extension": ".py",
   "mimetype": "text/x-python",
   "name": "python",
   "nbconvert_exporter": "python",
   "pygments_lexer": "ipython3",
   "version": "3.9.13"
  },
  "orig_nbformat": 4,
  "vscode": {
   "interpreter": {
    "hash": "d83c2c4acc6798d77f2d508a6925927a980aed8f1b879892c5701a8ab2ff850e"
   }
  }
 },
 "nbformat": 4,
 "nbformat_minor": 2
}
