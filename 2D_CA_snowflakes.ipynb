{
 "cells": [
  {
   "cell_type": "code",
   "execution_count": 1,
   "metadata": {},
   "outputs": [],
   "source": [
    "import numpy as np\n",
    "import numba as nb\n",
    "\n",
    "import ice_funcs as icef"
   ]
  },
  {
   "attachments": {},
   "cell_type": "markdown",
   "metadata": {},
   "source": [
    "## Todo:\n",
    "- ***Make sure that diffusion works!!***\n",
    "- ***Figure out if I actually need to hold on to timings... and if yes... how ?***\n",
    "    - Is the timing array even needed &&&**[do not delete, just comment out]**&&&\n",
    "- Make relaxSaturationUtilities fully OOP\n",
    "\n",
    "\n",
    "## Backburner-type-beat:\n",
    "- make sure everything is numbafied\n",
    "- Continue commenting in `ice_funcs.py`\n",
    "\n",
    "## Improvements\n",
    "- Monopole matching\n",
    "- correct geometry factors $G_b$ and $H_b$\n",
    "- Causal timings?"
   ]
  },
  {
   "cell_type": "code",
   "execution_count": 2,
   "metadata": {},
   "outputs": [],
   "source": [
    "# CONSTANTS\n",
    "\n",
    "L = 101\n",
    "W = (L+1)//2\n",
    "INITIAL_SAT = 1"
   ]
  },
  {
   "cell_type": "code",
   "execution_count": 3,
   "metadata": {},
   "outputs": [],
   "source": [
    "gu = icef.GeneralUtilities(101) # general utilities\n",
    "\n",
    "pu = icef.PhysicsUtilities(0.01, 10) # physics utilities\n",
    "\n"
   ]
  },
  {
   "cell_type": "code",
   "execution_count": 4,
   "metadata": {},
   "outputs": [
    {
     "ename": "TypingError",
     "evalue": "Failed in nopython mode pipeline (step: nopython frontend)\n\u001b[1m\u001b[1m\u001b[1m\u001b[1mFailed in nopython mode pipeline (step: nopython frontend)\n\u001b[1m\u001b[1m\u001b[1m\u001b[1m- Resolution failure for literal arguments:\n\u001b[1mFailed in nopython mode pipeline (step: native lowering)\nLLVM IR parsing error\n<string>:467:140: error: base element of getelementptr must be sized\n  %\".1702\" = getelementptr inbounds {i32, i32, %\"deferred.140471490431008.data\", i32, {i8*, i8*, i64, i64, float*, [3 x i64], [3 x i64]}}, {i32, i32, %\"deferred.140471490431008.data\", i32, {i8*, i8*, i64, i64, float*, [3 x i64], [3 x i64]}}* %\".1701\", i32 0, i32 1\n                                                                                                                                           ^\n\u001b[0m\n\u001b[0m\u001b[1m- Resolution failure for non-literal arguments:\n\u001b[1mNone\u001b[0m\n\u001b[0m\u001b[0m\n\u001b[0m\u001b[1mDuring: resolving callee type: BoundFunction((<class 'numba.core.types.misc.ClassInstanceType'>, '_construct_default_diffusion_rules') for instance.jitclass.SaturationRelaxationUtilities#7fc21149c5b0<L:int32,W:int32,PU:DeferredType#140471490431008,max_iter:int32,diffusion_rules:array(float32, 3d, C)>)\u001b[0m\n\u001b[0m\u001b[1mDuring: typing of call at /home/t-o/repos/Cellular-automaton-ice/ice_funcs.py (378)\n\u001b[0m\n\u001b[1m\nFile \"ice_funcs.py\", line 378:\u001b[0m\n\u001b[1m    def __init__(self, L, PhysicsUtilities_inst, max_iter):\n        <source elided>\n        # diffusion rules do not change and only need to be generated once\n\u001b[1m        self.diffusion_rules = self._construct_default_diffusion_rules()\n\u001b[0m        \u001b[1m^\u001b[0m\u001b[0m\n\n\u001b[0m\u001b[1mDuring: resolving callee type: jitclass.SaturationRelaxationUtilities#7fc21149c5b0<L:int32,W:int32,PU:DeferredType#140471490431008,max_iter:int32,diffusion_rules:array(float32, 3d, C)>\u001b[0m\n\u001b[0m\u001b[1mDuring: typing of call at <string> (3)\n\u001b[0m\n\u001b[0m\u001b[1mDuring: resolving callee type: jitclass.SaturationRelaxationUtilities#7fc21149c5b0<L:int32,W:int32,PU:DeferredType#140471490431008,max_iter:int32,diffusion_rules:array(float32, 3d, C)>\u001b[0m\n\u001b[0m\u001b[1mDuring: typing of call at <string> (3)\n\u001b[0m\n\u001b[1m\nFile \"<string>\", line 3:\u001b[0m\n\u001b[1m<source missing, REPL/exec in use?>\u001b[0m\n",
     "output_type": "error",
     "traceback": [
      "\u001b[0;31m---------------------------------------------------------------------------\u001b[0m",
      "\u001b[0;31mTypingError\u001b[0m                               Traceback (most recent call last)",
      "\u001b[0;32m/tmp/ipykernel_28575/2571636443.py\u001b[0m in \u001b[0;36m<module>\u001b[0;34m\u001b[0m\n\u001b[0;32m----> 1\u001b[0;31m \u001b[0msru\u001b[0m \u001b[0;34m=\u001b[0m \u001b[0micef\u001b[0m\u001b[0;34m.\u001b[0m\u001b[0mSaturationRelaxationUtilities\u001b[0m\u001b[0;34m(\u001b[0m\u001b[0;36m101\u001b[0m\u001b[0;34m,\u001b[0m \u001b[0mpu\u001b[0m\u001b[0;34m,\u001b[0m \u001b[0;36m200\u001b[0m\u001b[0;34m)\u001b[0m\u001b[0;34m\u001b[0m\u001b[0;34m\u001b[0m\u001b[0m\n\u001b[0m",
      "\u001b[0;32m~/miniconda3/lib/python3.9/site-packages/numba/experimental/jitclass/base.py\u001b[0m in \u001b[0;36m__call__\u001b[0;34m(cls, *args, **kwargs)\u001b[0m\n\u001b[1;32m    122\u001b[0m         \u001b[0mbind\u001b[0m \u001b[0;34m=\u001b[0m \u001b[0mcls\u001b[0m\u001b[0;34m.\u001b[0m\u001b[0m_ctor_sig\u001b[0m\u001b[0;34m.\u001b[0m\u001b[0mbind\u001b[0m\u001b[0;34m(\u001b[0m\u001b[0;32mNone\u001b[0m\u001b[0;34m,\u001b[0m \u001b[0;34m*\u001b[0m\u001b[0margs\u001b[0m\u001b[0;34m,\u001b[0m \u001b[0;34m**\u001b[0m\u001b[0mkwargs\u001b[0m\u001b[0;34m)\u001b[0m\u001b[0;34m\u001b[0m\u001b[0;34m\u001b[0m\u001b[0m\n\u001b[1;32m    123\u001b[0m         \u001b[0mbind\u001b[0m\u001b[0;34m.\u001b[0m\u001b[0mapply_defaults\u001b[0m\u001b[0;34m(\u001b[0m\u001b[0;34m)\u001b[0m\u001b[0;34m\u001b[0m\u001b[0;34m\u001b[0m\u001b[0m\n\u001b[0;32m--> 124\u001b[0;31m         \u001b[0;32mreturn\u001b[0m \u001b[0mcls\u001b[0m\u001b[0;34m.\u001b[0m\u001b[0m_ctor\u001b[0m\u001b[0;34m(\u001b[0m\u001b[0;34m*\u001b[0m\u001b[0mbind\u001b[0m\u001b[0;34m.\u001b[0m\u001b[0margs\u001b[0m\u001b[0;34m[\u001b[0m\u001b[0;36m1\u001b[0m\u001b[0;34m:\u001b[0m\u001b[0;34m]\u001b[0m\u001b[0;34m,\u001b[0m \u001b[0;34m**\u001b[0m\u001b[0mbind\u001b[0m\u001b[0;34m.\u001b[0m\u001b[0mkwargs\u001b[0m\u001b[0;34m)\u001b[0m\u001b[0;34m\u001b[0m\u001b[0;34m\u001b[0m\u001b[0m\n\u001b[0m\u001b[1;32m    125\u001b[0m \u001b[0;34m\u001b[0m\u001b[0m\n\u001b[1;32m    126\u001b[0m \u001b[0;34m\u001b[0m\u001b[0m\n",
      "\u001b[0;32m~/miniconda3/lib/python3.9/site-packages/numba/core/dispatcher.py\u001b[0m in \u001b[0;36m_compile_for_args\u001b[0;34m(self, *args, **kws)\u001b[0m\n\u001b[1;32m    466\u001b[0m                 \u001b[0me\u001b[0m\u001b[0;34m.\u001b[0m\u001b[0mpatch_message\u001b[0m\u001b[0;34m(\u001b[0m\u001b[0mmsg\u001b[0m\u001b[0;34m)\u001b[0m\u001b[0;34m\u001b[0m\u001b[0;34m\u001b[0m\u001b[0m\n\u001b[1;32m    467\u001b[0m \u001b[0;34m\u001b[0m\u001b[0m\n\u001b[0;32m--> 468\u001b[0;31m             \u001b[0merror_rewrite\u001b[0m\u001b[0;34m(\u001b[0m\u001b[0me\u001b[0m\u001b[0;34m,\u001b[0m \u001b[0;34m'typing'\u001b[0m\u001b[0;34m)\u001b[0m\u001b[0;34m\u001b[0m\u001b[0;34m\u001b[0m\u001b[0m\n\u001b[0m\u001b[1;32m    469\u001b[0m         \u001b[0;32mexcept\u001b[0m \u001b[0merrors\u001b[0m\u001b[0;34m.\u001b[0m\u001b[0mUnsupportedError\u001b[0m \u001b[0;32mas\u001b[0m \u001b[0me\u001b[0m\u001b[0;34m:\u001b[0m\u001b[0;34m\u001b[0m\u001b[0;34m\u001b[0m\u001b[0m\n\u001b[1;32m    470\u001b[0m             \u001b[0;31m# Something unsupported is present in the user code, add help info\u001b[0m\u001b[0;34m\u001b[0m\u001b[0;34m\u001b[0m\u001b[0m\n",
      "\u001b[0;32m~/miniconda3/lib/python3.9/site-packages/numba/core/dispatcher.py\u001b[0m in \u001b[0;36merror_rewrite\u001b[0;34m(e, issue_type)\u001b[0m\n\u001b[1;32m    407\u001b[0m                 \u001b[0;32mraise\u001b[0m \u001b[0me\u001b[0m\u001b[0;34m\u001b[0m\u001b[0;34m\u001b[0m\u001b[0m\n\u001b[1;32m    408\u001b[0m             \u001b[0;32melse\u001b[0m\u001b[0;34m:\u001b[0m\u001b[0;34m\u001b[0m\u001b[0;34m\u001b[0m\u001b[0m\n\u001b[0;32m--> 409\u001b[0;31m                 \u001b[0;32mraise\u001b[0m \u001b[0me\u001b[0m\u001b[0;34m.\u001b[0m\u001b[0mwith_traceback\u001b[0m\u001b[0;34m(\u001b[0m\u001b[0;32mNone\u001b[0m\u001b[0;34m)\u001b[0m\u001b[0;34m\u001b[0m\u001b[0;34m\u001b[0m\u001b[0m\n\u001b[0m\u001b[1;32m    410\u001b[0m \u001b[0;34m\u001b[0m\u001b[0m\n\u001b[1;32m    411\u001b[0m         \u001b[0margtypes\u001b[0m \u001b[0;34m=\u001b[0m \u001b[0;34m[\u001b[0m\u001b[0;34m]\u001b[0m\u001b[0;34m\u001b[0m\u001b[0;34m\u001b[0m\u001b[0m\n",
      "\u001b[0;31mTypingError\u001b[0m: Failed in nopython mode pipeline (step: nopython frontend)\n\u001b[1m\u001b[1m\u001b[1m\u001b[1mFailed in nopython mode pipeline (step: nopython frontend)\n\u001b[1m\u001b[1m\u001b[1m\u001b[1m- Resolution failure for literal arguments:\n\u001b[1mFailed in nopython mode pipeline (step: native lowering)\nLLVM IR parsing error\n<string>:467:140: error: base element of getelementptr must be sized\n  %\".1702\" = getelementptr inbounds {i32, i32, %\"deferred.140471490431008.data\", i32, {i8*, i8*, i64, i64, float*, [3 x i64], [3 x i64]}}, {i32, i32, %\"deferred.140471490431008.data\", i32, {i8*, i8*, i64, i64, float*, [3 x i64], [3 x i64]}}* %\".1701\", i32 0, i32 1\n                                                                                                                                           ^\n\u001b[0m\n\u001b[0m\u001b[1m- Resolution failure for non-literal arguments:\n\u001b[1mNone\u001b[0m\n\u001b[0m\u001b[0m\n\u001b[0m\u001b[1mDuring: resolving callee type: BoundFunction((<class 'numba.core.types.misc.ClassInstanceType'>, '_construct_default_diffusion_rules') for instance.jitclass.SaturationRelaxationUtilities#7fc21149c5b0<L:int32,W:int32,PU:DeferredType#140471490431008,max_iter:int32,diffusion_rules:array(float32, 3d, C)>)\u001b[0m\n\u001b[0m\u001b[1mDuring: typing of call at /home/t-o/repos/Cellular-automaton-ice/ice_funcs.py (378)\n\u001b[0m\n\u001b[1m\nFile \"ice_funcs.py\", line 378:\u001b[0m\n\u001b[1m    def __init__(self, L, PhysicsUtilities_inst, max_iter):\n        <source elided>\n        # diffusion rules do not change and only need to be generated once\n\u001b[1m        self.diffusion_rules = self._construct_default_diffusion_rules()\n\u001b[0m        \u001b[1m^\u001b[0m\u001b[0m\n\n\u001b[0m\u001b[1mDuring: resolving callee type: jitclass.SaturationRelaxationUtilities#7fc21149c5b0<L:int32,W:int32,PU:DeferredType#140471490431008,max_iter:int32,diffusion_rules:array(float32, 3d, C)>\u001b[0m\n\u001b[0m\u001b[1mDuring: typing of call at <string> (3)\n\u001b[0m\n\u001b[0m\u001b[1mDuring: resolving callee type: jitclass.SaturationRelaxationUtilities#7fc21149c5b0<L:int32,W:int32,PU:DeferredType#140471490431008,max_iter:int32,diffusion_rules:array(float32, 3d, C)>\u001b[0m\n\u001b[0m\u001b[1mDuring: typing of call at <string> (3)\n\u001b[0m\n\u001b[1m\nFile \"<string>\", line 3:\u001b[0m\n\u001b[1m<source missing, REPL/exec in use?>\u001b[0m\n"
     ]
    }
   ],
   "source": [
    "sru = icef.SaturationRelaxationUtilities(101, pu, 200)"
   ]
  },
  {
   "cell_type": "code",
   "execution_count": null,
   "metadata": {},
   "outputs": [],
   "source": [
    "neighbor_array_test = gu.neighbor_array\n",
    "diffusion_rules_test = sru.diffusion_rules"
   ]
  },
  {
   "cell_type": "code",
   "execution_count": null,
   "metadata": {},
   "outputs": [
    {
     "name": "stdout",
     "output_type": "stream",
     "text": [
      "[[0 0 0 0 0]\n",
      " [1 2 0 0 0]\n",
      " [0 0 0 0 0]\n",
      " [0 0 0 0 0]\n",
      " [0 0 0 0 0]]\n"
     ]
    }
   ],
   "source": [
    "default_ice_map = np.full((101, 101), False)\n",
    "default_ice_map[-1,0] = True\n",
    "default_ice_map[-2,0] = True\n",
    "default_ice_map[-3,0] = True\n",
    "default_ice_map[-3,1] = True\n",
    "\n",
    "# %timeit test_boundary_map\n",
    "boundary_map_test = gu.construct_boundary_map(default_ice_map)\n",
    "print(boundary_map_test[-5:,:5])\n",
    "\n",
    "sat_map_test = np.full((101,101), 1, dtype=np.float32)\n",
    "\n",
    "normal_cells_test, boundary_cells_test = gu._distinguish_cells(default_ice_map, boundary_map_test)\n",
    "\n",
    "opp_array_test = sru._construct_opp_array(boundary_cells_test, default_ice_map, neighbor_array_test)"
   ]
  },
  {
   "cell_type": "code",
   "execution_count": null,
   "metadata": {},
   "outputs": [
    {
     "name": "stdout",
     "output_type": "stream",
     "text": [
      "True\n",
      "4\n",
      "[[1.         1.         1.         1.         1.        ]\n",
      " [1.         1.         1.         1.         1.        ]\n",
      " [1.         1.         1.         1.         1.        ]\n",
      " [0.9999831  0.9999212  0.9998375  0.99979866 1.        ]\n",
      " [0.99968517 0.99934995 0.9991115  1.         1.        ]\n",
      " [0.9984669  0.9972105  0.9965122  1.         1.        ]\n",
      " [0.9952073  0.991714   1.         1.         1.        ]\n",
      " [1.         1.         1.         1.         1.        ]\n",
      " [1.         1.         1.         1.         1.        ]\n",
      " [1.         1.         1.         1.         1.        ]]\n"
     ]
    }
   ],
   "source": [
    "# pu.apply_boundary_condition(2, 2, sat_map_test, 0.5, boundary_map_test)\n",
    "\n",
    "sat_map_test = np.full((101,101), 1, dtype=np.float32)\n",
    "\n",
    "# for i in range(50):\n",
    "#     sru._execute_relaxation_step(sat_map_test, normal_cells_test, boundary_cells_test, opp_array_test, neighbor_array_test, boundary_map_test)\n",
    "\n",
    "new_thang = sru.diffuse_to_convergence(sat_map_test, 200, 0.001, normal_cells_test, boundary_cells_test, default_ice_map, boundary_map_test, neighbor_array_test)\n",
    "print(new_thang[1])\n",
    "print(new_thang[2])\n",
    "print(new_thang[0][-10:,:5])"
   ]
  },
  {
   "cell_type": "code",
   "execution_count": null,
   "metadata": {},
   "outputs": [],
   "source": []
  }
 ],
 "metadata": {
  "kernelspec": {
   "display_name": "base",
   "language": "python",
   "name": "python3"
  },
  "language_info": {
   "codemirror_mode": {
    "name": "ipython",
    "version": 3
   },
   "file_extension": ".py",
   "mimetype": "text/x-python",
   "name": "python",
   "nbconvert_exporter": "python",
   "pygments_lexer": "ipython3",
   "version": "3.9.13"
  },
  "orig_nbformat": 4,
  "vscode": {
   "interpreter": {
    "hash": "d83c2c4acc6798d77f2d508a6925927a980aed8f1b879892c5701a8ab2ff850e"
   }
  }
 },
 "nbformat": 4,
 "nbformat_minor": 2
}
