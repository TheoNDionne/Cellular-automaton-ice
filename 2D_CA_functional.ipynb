{
 "cells": [
  {
   "cell_type": "code",
   "execution_count": null,
   "metadata": {},
   "outputs": [],
   "source": [
    "import numpy as np\n",
    "import numba as nb\n",
    "\n",
    "import ice_funcs as icef"
   ]
  },
  {
   "cell_type": "code",
   "execution_count": null,
   "metadata": {},
   "outputs": [],
   "source": [
    "icef.initialize_sat_map(1001,501)"
   ]
  },
  {
   "attachments": {},
   "cell_type": "markdown",
   "metadata": {},
   "source": [
    "## Todo:\n",
    "\n",
    "- ***ISOLATE AND IRON OUT ALL KINKS IN ICE_FUNCS (COMMENT METHOD)***\n",
    "- MAKE SURE THAT NEW CLASSES ARENT FUCKED UP\n",
    "- make sure everything is numbafied\n",
    "- Figure out how to diffuse_to_convergence\n",
    "- Appliquer la diffusion\n",
    "- Workout comment intégrer le filling field 'f'\n",
    "- Continue commenting in `ice_funcs.py`"
   ]
  },
  {
   "cell_type": "code",
   "execution_count": null,
   "metadata": {},
   "outputs": [],
   "source": [
    "# CONSTANTS\n",
    "\n",
    "L = 101\n",
    "W = (L+1)//2\n",
    "INITIAL_SAT = 1"
   ]
  },
  {
   "cell_type": "code",
   "execution_count": null,
   "metadata": {},
   "outputs": [],
   "source": [
    "# intialize instance of GeneralUtilities\n",
    "gu = icef.GeneralUtilities(L)\n",
    "\n",
    "# check on all attributes\n",
    "print(gu.L)\n",
    "print(gu.W)\n",
    "print(gu.neighbor_array)\n",
    "print(gu.diffusion_rules[1,1])\n",
    "\n",
    "%timeit icef.GeneralUtilities(1001)"
   ]
  },
  {
   "cell_type": "code",
   "execution_count": null,
   "metadata": {},
   "outputs": [],
   "source": []
  }
 ],
 "metadata": {
  "kernelspec": {
   "display_name": "base",
   "language": "python",
   "name": "python3"
  },
  "language_info": {
   "codemirror_mode": {
    "name": "ipython",
    "version": 3
   },
   "file_extension": ".py",
   "mimetype": "text/x-python",
   "name": "python",
   "nbconvert_exporter": "python",
   "pygments_lexer": "ipython3",
   "version": "3.9.13"
  },
  "orig_nbformat": 4,
  "vscode": {
   "interpreter": {
    "hash": "d83c2c4acc6798d77f2d508a6925927a980aed8f1b879892c5701a8ab2ff850e"
   }
  }
 },
 "nbformat": 4,
 "nbformat_minor": 2
}
