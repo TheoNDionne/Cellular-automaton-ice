{
 "cells": [
  {
   "cell_type": "code",
   "execution_count": null,
   "metadata": {},
   "outputs": [],
   "source": []
  },
  {
   "cell_type": "code",
   "execution_count": 4,
   "metadata": {},
   "outputs": [],
   "source": [
    "class Cell:\n",
    "    \"\"\"THINGFADLFKASD:KFA:SLDKF:ALSDKF:ALS\"\"\"\n",
    "\n",
    "    def __init__(\n",
    "        self, \n",
    "        loc:tuple, \n",
    "        sat:float, \n",
    "        ice_status:bool = False, \n",
    "        boundary_status:bool = False\n",
    "    ):\n",
    "\n",
    "        self.loc = loc\n",
    "        self.sat = sat\n",
    "        self.ice_status = ice_status\n",
    "        self.boundary_status = boundary_status\n",
    "\n",
    "    "
   ]
  },
  {
   "cell_type": "code",
   "execution_count": 5,
   "metadata": {},
   "outputs": [],
   "source": [
    "class Cell_grid:\n",
    "\n",
    "    def __init__(self, L:int, initial_fill:float=1):\n",
    "        \n",
    "        self.L = L\n",
    "        self.initial_fill = initial_fill \n",
    "        \n",
    "        if self.L%2 == 0:\n",
    "            raise ValueError(\"L must be an odd number\")\n",
    "        \n",
    "        self.W = (self.L+1)//2\n",
    "\n",
    "        self.simulation_sites = dict() # initialize simulation site dictionnary\n",
    "\n",
    "        # Initialize simulation sites\n",
    "        for line in range(self.L):\n",
    "            for col in range((self.L - line + 1)//2):\n",
    "                self.simulation_sites[(line, col)] = Cell((line, col), self.initial_fill)"
   ]
  },
  {
   "cell_type": "code",
   "execution_count": 6,
   "metadata": {},
   "outputs": [],
   "source": [
    "test = Cell_grid(1001)"
   ]
  },
  {
   "cell_type": "code",
   "execution_count": 7,
   "metadata": {},
   "outputs": [
    {
     "name": "stdout",
     "output_type": "stream",
     "text": [
      "1.6463899612426758e-07\n"
     ]
    }
   ],
   "source": [
    "import time\n",
    "\n",
    "N_iter = 1000000\n",
    "\n",
    "start = time.time()\n",
    "\n",
    "for i in range(N_iter):\n",
    "    test.simulation_sites[(1,1)].ice_status\n",
    "\n",
    "end = time.time()\n",
    "\n",
    "print((end - start)/N_iter)"
   ]
  },
  {
   "cell_type": "code",
   "execution_count": null,
   "metadata": {},
   "outputs": [],
   "source": []
  }
 ],
 "metadata": {
  "kernelspec": {
   "display_name": "base",
   "language": "python",
   "name": "python3"
  },
  "language_info": {
   "codemirror_mode": {
    "name": "ipython",
    "version": 3
   },
   "file_extension": ".py",
   "mimetype": "text/x-python",
   "name": "python",
   "nbconvert_exporter": "python",
   "pygments_lexer": "ipython3",
   "version": "3.9.13"
  },
  "orig_nbformat": 4,
  "vscode": {
   "interpreter": {
    "hash": "d83c2c4acc6798d77f2d508a6925927a980aed8f1b879892c5701a8ab2ff850e"
   }
  }
 },
 "nbformat": 4,
 "nbformat_minor": 2
}
