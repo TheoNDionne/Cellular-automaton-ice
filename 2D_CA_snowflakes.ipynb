{
 "cells": [
  {
   "cell_type": "code",
   "execution_count": 13,
   "metadata": {},
   "outputs": [],
   "source": [
    "import numpy as np\n",
    "import numba as nb\n",
    "\n",
    "import ice_funcs as icef"
   ]
  },
  {
   "attachments": {},
   "cell_type": "markdown",
   "metadata": {},
   "source": [
    "## Todo:\n",
    "- ***Figure out if I actually need to hold on to timings... and if yes... how ?***\n",
    "    - Is the timing array even needed &&&**[do not delete, just comment out]**&&&\n",
    "- Make relaxSaturationUtilities fully OOP\n",
    "\n",
    "\n",
    "## Backburner-type-beat:\n",
    "- make sure everything is numbafied\n",
    "- Continue commenting in `ice_funcs.py`\n",
    "\n",
    "## Improvements\n",
    "- Monopole matching\n",
    "- correct geometry factors $G_b$ and $H_b$\n",
    "- Causal timings?"
   ]
  },
  {
   "cell_type": "code",
   "execution_count": 14,
   "metadata": {},
   "outputs": [],
   "source": [
    "# CONSTANTS\n",
    "\n",
    "L = 101\n",
    "W = (L+1)//2\n",
    "INITIAL_SAT = 1"
   ]
  },
  {
   "cell_type": "code",
   "execution_count": 15,
   "metadata": {},
   "outputs": [],
   "source": [
    "gu = icef.GeneralUtilities(101) # general utilities\n",
    "\n",
    "pu = icef.PhysicsUtilities(0.01, 10) # physics utilities\n",
    "\n",
    "sru = icef.SaturationRelaxationUtilities(101, pu, 200)"
   ]
  },
  {
   "cell_type": "code",
   "execution_count": 16,
   "metadata": {},
   "outputs": [
    {
     "name": "stdout",
     "output_type": "stream",
     "text": [
      "24.2 ns ± 0.343 ns per loop (mean ± std. dev. of 7 runs, 10000000 loops each)\n",
      "[[0 0 0 0 0]\n",
      " [1 2 0 0 0]\n",
      " [0 0 0 0 0]\n",
      " [0 0 0 0 0]\n",
      " [0 0 0 0 0]]\n"
     ]
    }
   ],
   "source": [
    "default_ice_map = np.full((101, 101), False)\n",
    "default_ice_map[-1,0] = True\n",
    "default_ice_map[-2,0] = True\n",
    "default_ice_map[-3,0] = True\n",
    "default_ice_map[-3,1] = True\n",
    "\n",
    "%timeit test_boundary_map\n",
    "test_boundary_map = gu.construct_boundary_map(default_ice_map)\n",
    "print(test_boundary_map[-5:,:5])"
   ]
  },
  {
   "cell_type": "code",
   "execution_count": 17,
   "metadata": {},
   "outputs": [
    {
     "data": {
      "text/plain": [
       "array([[97,  0],\n",
       "       [97,  1]])"
      ]
     },
     "execution_count": 17,
     "metadata": {},
     "output_type": "execute_result"
    }
   ],
   "source": [
    "sru._distinguish_cells(default_ice_map, test_boundary_map)[1]"
   ]
  },
  {
   "cell_type": "code",
   "execution_count": null,
   "metadata": {},
   "outputs": [],
   "source": []
  },
  {
   "cell_type": "code",
   "execution_count": null,
   "metadata": {},
   "outputs": [],
   "source": []
  }
 ],
 "metadata": {
  "kernelspec": {
   "display_name": "base",
   "language": "python",
   "name": "python3"
  },
  "language_info": {
   "codemirror_mode": {
    "name": "ipython",
    "version": 3
   },
   "file_extension": ".py",
   "mimetype": "text/x-python",
   "name": "python",
   "nbconvert_exporter": "python",
   "pygments_lexer": "ipython3",
   "version": "3.9.13"
  },
  "orig_nbformat": 4,
  "vscode": {
   "interpreter": {
    "hash": "d83c2c4acc6798d77f2d508a6925927a980aed8f1b879892c5701a8ab2ff850e"
   }
  }
 },
 "nbformat": 4,
 "nbformat_minor": 2
}
