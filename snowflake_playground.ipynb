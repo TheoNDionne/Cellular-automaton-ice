{
 "cells": [
  {
   "cell_type": "code",
   "execution_count": 1,
   "metadata": {},
   "outputs": [],
   "source": [
    "import numpy as np\n",
    "import ice_funcs as icef\n",
    "import snowflake_plot as snp\n",
    "\n",
    "import matplotlib.pyplot as plt"
   ]
  },
  {
   "attachments": {},
   "cell_type": "markdown",
   "metadata": {},
   "source": [
    "# Generation of snowflake"
   ]
  },
  {
   "cell_type": "code",
   "execution_count": 2,
   "metadata": {},
   "outputs": [
    {
     "name": "stdout",
     "output_type": "stream",
     "text": [
      "Starting simulation\n",
      "Iteration 0\n",
      "Iteration 100\n",
      "Iteration 200\n",
      "Iteration 300\n",
      "Iteration 400\n",
      "Iteration 500\n",
      "Iteration 600\n",
      "Iteration 700\n",
      "Iteration 800\n",
      "Iteration 900\n",
      "Iteration 1000\n",
      "Iteration 1100\n",
      "Iteration 1200\n",
      "Iteration 1300\n",
      "Iteration 1400\n",
      "Iteration 1500\n",
      "Iteration 1600\n",
      "Iteration 1700\n",
      "Iteration 1800\n",
      "Iteration 1900\n"
     ]
    }
   ],
   "source": [
    "L = 501 # Length of simulation zone\n",
    "\n",
    "# initialising snowflake class\n",
    "SnowflakeSim = icef.SnowflakeSimulation(L)\n",
    "\n",
    "# defining physical parameters\n",
    "\"\"\" GAS KINETICS \"\"\"\n",
    "SnowflakeSim.PhysicsU.X_0 = 1\n",
    "SnowflakeSim.PhysicsU.v_kin = 1 # not sure this does much except time\n",
    "\n",
    "\"\"\" ATTACHMENT \"\"\"\n",
    "SnowflakeSim.PhysicsU.max_alpha = 1\n",
    "SnowflakeSim.PhysicsU.b = 0.1\n",
    "\n",
    "\"\"\" GEOMETRY CONTROL \"\"\"\n",
    "SnowflakeSim.PhysicsU.D_x = 1\n",
    "\n",
    "\n",
    "print(\"Starting simulation\")\n",
    "\n",
    "# snowflake generating function\n",
    "final_ice_map = SnowflakeSim.run_simulation(2000, initial_seed_half_width=100, initial_sat=1) "
   ]
  },
  {
   "attachments": {},
   "cell_type": "markdown",
   "metadata": {},
   "source": [
    "# Plotting of snowflake"
   ]
  },
  {
   "cell_type": "code",
   "execution_count": 3,
   "metadata": {},
   "outputs": [
    {
     "data": {
      "image/png": "[encoded data removed]",
      "text/plain": [
       "<Figure size 432x288 with 1 Axes>"
      ]
     },
     "metadata": {
      "needs_background": "light"
     },
     "output_type": "display_data"
    }
   ],
   "source": [
    "demi_largeur = 400 # demi-largeur du graphique\n",
    "\n",
    "# paramètres graphiques\n",
    "params = {\"figure.dpi\":2000}\n",
    "plt.rcParams.update(params)\n",
    "\n",
    "# conversion de ice_map vers des coordonnées\n",
    "converter = snp.CoordsFromIceMap(L)\n",
    "R = converter.convert_ice_map_to_all_coords(final_ice_map)\n",
    "\n",
    "# graphique du flocon\n",
    "plt.figure()\n",
    "\n",
    "# utilisation des marqueurs hexagonaux pour représenter les cellules de glace\n",
    "plt.plot(R[:,0], R[:,1], marker=\"H\", linewidth=0, markersize=124/demi_largeur)\n",
    "\n",
    "plt.xlim(-demi_largeur, demi_largeur)\n",
    "plt.ylim(-demi_largeur, demi_largeur)\n",
    "plt.gca().set_aspect(1)\n",
    "\n",
    "plt.title(f\"X_0={SnowflakeSim.PhysicsU.X_0}; v_k={SnowflakeSim.PhysicsU.v_kin}; max_alpha={SnowflakeSim.PhysicsU.max_alpha}; b={SnowflakeSim.PhysicsU.b}; D_x={SnowflakeSim.PhysicsU.D_x}; time={SnowflakeSim.global_time}\", wrap=True) ###################################### SO ON SO FORTH\n",
    "\n",
    "plt.show()"
   ]
  }
 ],
 "metadata": {
  "kernelspec": {
   "display_name": "base",
   "language": "python",
   "name": "python3"
  },
  "language_info": {
   "codemirror_mode": {
    "name": "ipython",
    "version": 3
   },
   "file_extension": ".py",
   "mimetype": "text/x-python",
   "name": "python",
   "nbconvert_exporter": "python",
   "pygments_lexer": "ipython3",
   "version": "3.9.13"
  },
  "orig_nbformat": 4
 },
 "nbformat": 4,
 "nbformat_minor": 2
}
