{
 "cells": [
  {
   "cell_type": "code",
   "execution_count": 1,
   "metadata": {},
   "outputs": [],
   "source": [
    "import numpy as np\n",
    "import ice_funcs as icef\n",
    "import snowflake_plot as snp\n",
    "\n",
    "import matplotlib.pyplot as plt"
   ]
  },
  {
   "cell_type": "code",
   "execution_count": 2,
   "metadata": {},
   "outputs": [
    {
     "name": "stdout",
     "output_type": "stream",
     "text": [
      "Starting simulation\n",
      "Iteration 0\n",
      "Iteration 100\n",
      "Iteration 200\n",
      "Iteration 300\n",
      "Iteration 400\n",
      "Iteration 500\n",
      "Iteration 600\n",
      "Iteration 700\n",
      "Iteration 800\n",
      "Iteration 900\n"
     ]
    }
   ],
   "source": [
    "# initialising snowflake class\n",
    "SnowflakeSim = icef.SnowflakeSimulation(1001, 200)\n",
    "\n",
    "SnowflakeSim.ice_map[-4,0] = True\n",
    "SnowflakeSim.ice_map[-4,1] = True\n",
    "\n",
    "SnowflakeSim.ice_map[-5,0] = True\n",
    "SnowflakeSim.ice_map[-5,1] = True\n",
    "SnowflakeSim.ice_map[-5,2] = True\n",
    "\n",
    "SnowflakeSim.ice_map[-6,0] = True\n",
    "SnowflakeSim.ice_map[-6,1] = True\n",
    "SnowflakeSim.ice_map[-6,2] = True\n",
    "\n",
    "SnowflakeSim.ice_map[-7,0] = True\n",
    "SnowflakeSim.ice_map[-7,1] = True\n",
    "SnowflakeSim.ice_map[-7,2] = True\n",
    "SnowflakeSim.ice_map[-7,3] = True\n",
    "\n",
    "SnowflakeSim.ice_map[-8,0] = True\n",
    "SnowflakeSim.ice_map[-8,1] = True\n",
    "SnowflakeSim.ice_map[-8,2] = True\n",
    "SnowflakeSim.ice_map[-8,3] = True\n",
    "\n",
    "SnowflakeSim.ice_map[-9,0] = True\n",
    "SnowflakeSim.ice_map[-9,1] = True\n",
    "SnowflakeSim.ice_map[-9,2] = True\n",
    "SnowflakeSim.ice_map[-9,3] = True\n",
    "SnowflakeSim.ice_map[-9,4] = True\n",
    "\n",
    "\n",
    "# defining physical parameters\n",
    "SnowflakeSim.PhysicsU.X_0 = 1\n",
    "SnowflakeSim.PhysicsU.v_kin = 1\n",
    "\n",
    "SnowflakeSim.PhysicsU.max_alpha = 1\n",
    "SnowflakeSim.PhysicsU.b = 1\n",
    "\n",
    "SnowflakeSim.PhysicsU.D_x = 1\n",
    "SnowflakeSim.PhysicsU.G = 1 # should actually be good!\n",
    "SnowflakeSim.PhysicsU.H = 1 # this too\n",
    "\n",
    "\n",
    "print(\"Starting simulation\")\n",
    "\n",
    "final_ice_map = SnowflakeSim.run_simulation(1000, 0.001)"
   ]
  },
  {
   "cell_type": "code",
   "execution_count": 3,
   "metadata": {},
   "outputs": [
    {
     "data": {
      "image/png": "[encoded data removed]",
      "text/plain": [
       "<Figure size 432x288 with 1 Axes>"
      ]
     },
     "metadata": {
      "needs_background": "light"
     },
     "output_type": "display_data"
    }
   ],
   "source": [
    "L = 1001\n",
    "demi_largeur = 60\n",
    "\n",
    "params = {\"figure.dpi\":250}\n",
    "plt.rcParams.update(params)\n",
    "\n",
    "converter = snp.CoordsFromIceMap(L)\n",
    "R = converter.convert_ice_map_to_all_coords(final_ice_map)\n",
    "\n",
    "\n",
    "\n",
    "plt.figure()\n",
    "\n",
    "plt.plot(R[:,0], R[:,1], marker=\"H\", linewidth=0, markersize=124/demi_largeur)\n",
    "\n",
    "plt.xlim(-demi_largeur,demi_largeur)\n",
    "plt.ylim(-demi_largeur,demi_largeur)\n",
    "plt.gca().set_aspect(1)\n",
    "\n",
    "plt.show()"
   ]
  },
  {
   "cell_type": "code",
   "execution_count": null,
   "metadata": {},
   "outputs": [],
   "source": []
  }
 ],
 "metadata": {
  "kernelspec": {
   "display_name": "base",
   "language": "python",
   "name": "python3"
  },
  "language_info": {
   "codemirror_mode": {
    "name": "ipython",
    "version": 3
   },
   "file_extension": ".py",
   "mimetype": "text/x-python",
   "name": "python",
   "nbconvert_exporter": "python",
   "pygments_lexer": "ipython3",
   "version": "3.9.13"
  },
  "orig_nbformat": 4
 },
 "nbformat": 4,
 "nbformat_minor": 2
}
