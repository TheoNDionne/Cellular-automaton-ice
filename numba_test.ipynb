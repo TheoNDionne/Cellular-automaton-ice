{
 "cells": [
  {
   "cell_type": "code",
   "execution_count": 25,
   "metadata": {},
   "outputs": [],
   "source": [
    "import numba as nb\n",
    "import numpy as np"
   ]
  },
  {
   "cell_type": "code",
   "execution_count": 2,
   "metadata": {},
   "outputs": [],
   "source": [
    "@nb.experimental.jitclass({\n",
    "    \"A\" : nb.float32,\n",
    "    \"B\" : nb.float32 \n",
    "})\n",
    "class MathClass:\n",
    "\n",
    "    def __init__(self, A, B):\n",
    "        self.A = A\n",
    "        self.B = B\n",
    "\n",
    "    def adder(self):\n",
    "        return self.A + self.B\n",
    "\n",
    "    def multiplier(self):\n",
    "        return self.A * self.B"
   ]
  },
  {
   "cell_type": "code",
   "execution_count": 3,
   "metadata": {},
   "outputs": [
    {
     "data": {
      "text/plain": [
       "DeferredType#140597048354464"
      ]
     },
     "execution_count": 3,
     "metadata": {},
     "output_type": "execute_result"
    }
   ],
   "source": [
    "mathclass_type = nb.deferred_type()\n",
    "mathclass_type.define(MathClass.class_type.instance_type)\n",
    "mathclass_type"
   ]
  },
  {
   "cell_type": "code",
   "execution_count": 4,
   "metadata": {},
   "outputs": [],
   "source": [
    "@nb.experimental.jitclass({\n",
    "    \"obj\" : mathclass_type\n",
    "})\n",
    "class Container:\n",
    "\n",
    "    def __init__(self, obj):\n",
    "        self.obj = obj\n",
    "\n",
    "    def loop_adder(self, iters):\n",
    "        total = 0\n",
    "        for i in range(iters):\n",
    "            total += self.obj.adder()\n",
    "\n",
    "        return total\n",
    "\n",
    "    "
   ]
  },
  {
   "cell_type": "code",
   "execution_count": 5,
   "metadata": {},
   "outputs": [],
   "source": [
    "mathclass = MathClass(2,3)\n",
    "cont = Container(mathclass)"
   ]
  },
  {
   "cell_type": "code",
   "execution_count": 6,
   "metadata": {},
   "outputs": [
    {
     "name": "stdout",
     "output_type": "stream",
     "text": [
      "555 ns ± 1.85 ns per loop (mean ± std. dev. of 7 runs, 1000000 loops each)\n"
     ]
    }
   ],
   "source": [
    "# print(cont.loop_adder(10))\n",
    "%timeit cont.loop_adder(10)"
   ]
  },
  {
   "cell_type": "code",
   "execution_count": 17,
   "metadata": {},
   "outputs": [],
   "source": [
    "@nb.experimental.jitclass({\n",
    "    # \"message\" : nb.str,\n",
    "    \"total\" : nb.int32\n",
    "})\n",
    "class Causality:\n",
    "    \n",
    "    def __init__(self):\n",
    "        # self.message = self.random_method()\n",
    "        self.total = 0\n",
    "\n",
    "    # def random_method(self):\n",
    "    #     return \"Bruh\"\n",
    "    \n",
    "    def increment_total_by(self, amount):\n",
    "        self.total += amount\n",
    "        return None"
   ]
  },
  {
   "cell_type": "code",
   "execution_count": 18,
   "metadata": {},
   "outputs": [],
   "source": [
    "test = Causality()"
   ]
  },
  {
   "cell_type": "code",
   "execution_count": 23,
   "metadata": {},
   "outputs": [
    {
     "name": "stdout",
     "output_type": "stream",
     "text": [
      "4\n",
      "549 ns ± 6.08 ns per loop (mean ± std. dev. of 7 runs, 1000000 loops each)\n",
      "8111115\n"
     ]
    }
   ],
   "source": [
    "print(test.total)\n",
    "%timeit test.increment_total_by(1)\n",
    "print(test.total)"
   ]
  },
  {
   "cell_type": "code",
   "execution_count": 43,
   "metadata": {},
   "outputs": [],
   "source": [
    "@nb.njit\n",
    "def test_where(A, max_val):\n",
    "    return [A < max_val]"
   ]
  },
  {
   "cell_type": "code",
   "execution_count": 44,
   "metadata": {},
   "outputs": [
    {
     "data": {
      "text/plain": [
       "array([[0.90678024, 0.91029423, 0.21233709, ..., 0.01461372, 0.88197087,\n",
       "        0.27232983],\n",
       "       [0.3733565 , 0.43936054, 0.30424571, ..., 0.8503681 , 0.96602497,\n",
       "        0.84675248],\n",
       "       [0.20041407, 0.76616005, 0.07582612, ..., 0.44325286, 0.87322679,\n",
       "        0.09890529],\n",
       "       ...,\n",
       "       [0.7554834 , 0.6165302 , 0.78578718, ..., 0.9541344 , 0.12963219,\n",
       "        0.18385483],\n",
       "       [0.88565625, 0.9065756 , 0.7907417 , ..., 0.90997055, 0.5400997 ,\n",
       "        0.6733643 ],\n",
       "       [0.04175472, 0.1229777 , 0.13310482, ..., 0.69721539, 0.16306582,\n",
       "        0.74468491]])"
      ]
     },
     "execution_count": 44,
     "metadata": {},
     "output_type": "execute_result"
    }
   ],
   "source": [
    "A = np.random.random((1001,1001))\n",
    "A"
   ]
  },
  {
   "cell_type": "code",
   "execution_count": 46,
   "metadata": {},
   "outputs": [
    {
     "name": "stdout",
     "output_type": "stream",
     "text": [
      "768 µs ± 25.7 µs per loop (mean ± std. dev. of 7 runs, 1000 loops each)\n"
     ]
    }
   ],
   "source": []
  },
  {
   "cell_type": "code",
   "execution_count": null,
   "metadata": {},
   "outputs": [],
   "source": []
  }
 ],
 "metadata": {
  "kernelspec": {
   "display_name": "base",
   "language": "python",
   "name": "python3"
  },
  "language_info": {
   "codemirror_mode": {
    "name": "ipython",
    "version": 3
   },
   "file_extension": ".py",
   "mimetype": "text/x-python",
   "name": "python",
   "nbconvert_exporter": "python",
   "pygments_lexer": "ipython3",
   "version": "3.9.13"
  },
  "orig_nbformat": 4,
  "vscode": {
   "interpreter": {
    "hash": "d83c2c4acc6798d77f2d508a6925927a980aed8f1b879892c5701a8ab2ff850e"
   }
  }
 },
 "nbformat": 4,
 "nbformat_minor": 2
}
